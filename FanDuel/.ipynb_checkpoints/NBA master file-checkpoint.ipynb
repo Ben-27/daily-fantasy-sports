{
 "cells": [
  {
   "cell_type": "markdown",
   "id": "eb54d62d-fbef-4bf0-9a74-2999a59bc3f7",
   "metadata": {
    "tags": []
   },
   "source": [
    "Added stud constraint. Stud is FanDuel points >= 40. Requires at least *3* players.\n",
    "\n",
    "Keep GTD players. Simulate with 50% chance of not playing."
   ]
  },
  {
   "cell_type": "code",
   "execution_count": 1,
   "id": "7d91e6cd-f4ef-473c-8f29-8c12c1025328",
   "metadata": {
    "tags": []
   },
   "outputs": [],
   "source": [
    "import pandas as pd\n",
    "import numpy as np\n",
    "import random, pulp, os\n",
    "from datetime import datetime\n",
    "\n",
    "from NBA import *\n",
    "%load_ext autoreload\n",
    "%autoreload 2"
   ]
  },
  {
   "cell_type": "markdown",
   "id": "cce7cfd9-8556-4ade-89e9-bf038f2e71a0",
   "metadata": {},
   "source": [
    "## Load FanDuel Players List"
   ]
  },
  {
   "cell_type": "code",
   "execution_count": 2,
   "id": "71d5a9e3-7f49-4b16-a20b-4f9a0b4323b0",
   "metadata": {
    "tags": []
   },
   "outputs": [],
   "source": [
    "players_file = 'FanDuel-NBA-2024 ET-04 ET-19 ET-101897-players-list'\n",
    "full_players_file = 'Lib/Players Lists/NBA/' + players_file + '.csv'\n",
    "\n",
    "ply = load_fanduel_playerslist(full_players_file)"
   ]
  },
  {
   "cell_type": "markdown",
   "id": "3ccfcf1b-860e-4b51-9790-93db84f26cc0",
   "metadata": {},
   "source": [
    "## Merge and Filter"
   ]
  },
  {
   "cell_type": "code",
   "execution_count": 3,
   "id": "730f607a-e225-423a-81e3-60f5411ea5f2",
   "metadata": {
    "tags": []
   },
   "outputs": [
    {
     "name": "stdout",
     "output_type": "stream",
     "text": [
      "Total players to start: 73\n",
      "Total players filtered out: 47\n",
      "Total players remaining: 26\n",
      "\n",
      "Breakdown by category. Possible duplicates across categories.\n",
      "Dropping 9 players due to injuries.\n",
      "Dropping 30 players due to low projections.\n",
      "Dropping 47 players due to low salary.\n"
     ]
    }
   ],
   "source": [
    "dat = ply.copy()\n",
    "\n",
    "dat['Stud'] = (dat['FPPG'] >= 40) * 1\n",
    "\n",
    "dat = filter_players(dat, salary_cutoff=4500, verbose=True)"
   ]
  },
  {
   "cell_type": "markdown",
   "id": "0e406fad-3e27-4574-806c-e73bb584cf80",
   "metadata": {},
   "source": [
    "## Download Actuals from Number Fire"
   ]
  },
  {
   "cell_type": "code",
   "execution_count": 4,
   "id": "ef7a3326-dc90-441b-a2c9-03b563e85c3e",
   "metadata": {
    "tags": []
   },
   "outputs": [],
   "source": [
    "url_mapping = pd.read_csv('Utils/NBA Helpers/NumberFire NBA URL Mappings.csv')\n",
    "\n",
    "dat = dat.merge(\n",
    "    pd.read_csv('Utils/NBA Helpers/NumberFire NBA URL Mappings.csv'),\n",
    "    how = 'left', left_on = 'Nickname', right_on = 'FanDuel Nickname'\n",
    ")\n",
    "\n",
    "dat.drop(columns = ['Nickname_y', 'FanDuel Nickname'], inplace = True)\n",
    "dat.rename(columns = {'Nickname_x' : 'Nickname'}, inplace = True)\n",
    "\n",
    "\n",
    "dat['Suffix'].fillna(dat['Nickname'].str.replace(' ', '-'), inplace = True)"
   ]
  },
  {
   "cell_type": "code",
   "execution_count": 5,
   "id": "26055381-7ba6-4303-84af-64113dab4fdd",
   "metadata": {
    "tags": []
   },
   "outputs": [
    {
     "name": "stdout",
     "output_type": "stream",
     "text": [
      "DeMar DeRozan DeMar-DeRozan\n",
      "Bam Adebayo Bam-Adebayo\n",
      "Nikola Vucevic Nikola-Vucevic\n",
      "Tyler Herro Tyler-Herro\n",
      "Coby White Coby-White\n",
      "Terry Rozier Terry-Rozier\n",
      "Ayo Dosunmu Ayo-Dosunmu\n",
      "Javonte Green Javonte-Green\n",
      "Andre Drummond Andre-Drummond\n",
      "Alex Caruso Alex-Caruso\n",
      "Jaime Jaquez Jaime-Jaquez-Jr\n",
      "Haywood Highsmith Haywood-Highsmith\n",
      "Caleb Martin Caleb-Martin\n",
      "Delon Wright Delon-Wright\n",
      "Kevin Love Kevin-Love\n",
      "Total time: 0:00:10.269702\n"
     ]
    },
    {
     "data": {
      "text/plain": [
       "(789, 17)"
      ]
     },
     "execution_count": 5,
     "metadata": {},
     "output_type": "execute_result"
    }
   ],
   "source": [
    "nf = pd.DataFrame(columns = ['Date', 'OPP', 'MIN', 'PTS', 'FGM-A', '3PM-A', 'FTM-A', 'REB', 'AST', 'STL', 'BLK', 'TOV', 'PF', 'Salary', 'FP', 'Value'])\n",
    "\n",
    "start = datetime.now()\n",
    "for nickname in dat['Nickname']:\n",
    "    suffix = dat.loc[dat['Nickname'] == nickname, 'Suffix'].iloc[0]\n",
    "    try:\n",
    "        act = pd.read_html('https://www.numberfire.com/nba/players/daily-fantasy/' + suffix)\n",
    "        \n",
    "        temp = pd.concat([act[2], act[3]], axis = 1)\n",
    "        temp['Nickname'] = nickname\n",
    "        nf = pd.concat([nf, temp])\n",
    "    except:\n",
    "        print(nickname, suffix)\n",
    "\n",
    "stop = datetime.now()\n",
    "print(f'Total time: {stop - start}')\n",
    "nf.shape"
   ]
  },
  {
   "cell_type": "code",
   "execution_count": 6,
   "id": "3603a554-48f0-440a-88cf-09f3826691b4",
   "metadata": {
    "tags": []
   },
   "outputs": [],
   "source": [
    "# get standard deviation and actuals from last N games\n",
    "N = 3\n",
    "nf_summary = nf.groupby('Nickname').head(N).groupby('Nickname').agg({'FP':['count', 'mean', 'std'], 'MIN':['mean']})\n",
    "nf_summary.columns = ['FP_count', 'FP_mean', 'FP_std', 'Minutes']\n",
    "\n",
    "# compute standard error\n",
    "nf_summary['FP_SE'] = nf_summary['FP_std'] / np.sqrt(nf_summary['FP_count'])\n",
    "\n",
    "# round all\n",
    "nf_summary = np.round(nf_summary, 2)"
   ]
  },
  {
   "cell_type": "markdown",
   "id": "5e3655bc-e20a-40b2-b921-6c920f866ff6",
   "metadata": {},
   "source": [
    "## Regression and Simulate"
   ]
  },
  {
   "cell_type": "code",
   "execution_count": 7,
   "id": "2848509a-fb5b-426c-84df-fb6f49f7b2af",
   "metadata": {
    "tags": []
   },
   "outputs": [
    {
     "name": "stdout",
     "output_type": "stream",
     "text": [
      "Dropping 15 players due to missing FP_SE\n",
      "['DeMar DeRozan', 'Bam Adebayo', 'Nikola Vucevic', 'Tyler Herro', 'Coby White', 'Terry Rozier', 'Ayo Dosunmu', 'Javonte Green', 'Andre Drummond', 'Alex Caruso', 'Jaime Jaquez', 'Haywood Highsmith', 'Caleb Martin', 'Delon Wright', 'Kevin Love']\n"
     ]
    },
    {
     "data": {
      "text/html": [
       "<div>\n",
       "<style scoped>\n",
       "    .dataframe tbody tr th:only-of-type {\n",
       "        vertical-align: middle;\n",
       "    }\n",
       "\n",
       "    .dataframe tbody tr th {\n",
       "        vertical-align: top;\n",
       "    }\n",
       "\n",
       "    .dataframe thead th {\n",
       "        text-align: right;\n",
       "    }\n",
       "</style>\n",
       "<table border=\"1\" class=\"dataframe\">\n",
       "  <thead>\n",
       "    <tr style=\"text-align: right;\">\n",
       "      <th></th>\n",
       "      <th>Id</th>\n",
       "      <th>Nickname</th>\n",
       "      <th>Position</th>\n",
       "      <th>FPPG</th>\n",
       "      <th>Salary</th>\n",
       "      <th>Game</th>\n",
       "      <th>Team</th>\n",
       "      <th>Injury Indicator</th>\n",
       "      <th>Stud</th>\n",
       "      <th>Suffix</th>\n",
       "      <th>...</th>\n",
       "      <th>sim10</th>\n",
       "      <th>sim11</th>\n",
       "      <th>sim12</th>\n",
       "      <th>sim13</th>\n",
       "      <th>sim14</th>\n",
       "      <th>sim15</th>\n",
       "      <th>sim16</th>\n",
       "      <th>sim17</th>\n",
       "      <th>sim18</th>\n",
       "      <th>sim19</th>\n",
       "    </tr>\n",
       "  </thead>\n",
       "  <tbody>\n",
       "    <tr>\n",
       "      <th>0</th>\n",
       "      <td>101897-59358</td>\n",
       "      <td>Domantas Sabonis</td>\n",
       "      <td>C/PF</td>\n",
       "      <td>49.27</td>\n",
       "      <td>10400</td>\n",
       "      <td>SAC@NO</td>\n",
       "      <td>SAC</td>\n",
       "      <td>NaN</td>\n",
       "      <td>1</td>\n",
       "      <td>Domantas-Sabonis</td>\n",
       "      <td>...</td>\n",
       "      <td>16.5</td>\n",
       "      <td>13.2</td>\n",
       "      <td>12.1</td>\n",
       "      <td>12.0</td>\n",
       "      <td>7.5</td>\n",
       "      <td>2.8</td>\n",
       "      <td>9.1</td>\n",
       "      <td>1.1</td>\n",
       "      <td>2.5</td>\n",
       "      <td>15.8</td>\n",
       "    </tr>\n",
       "    <tr>\n",
       "      <th>1</th>\n",
       "      <td>101897-80810</td>\n",
       "      <td>De'Aaron Fox</td>\n",
       "      <td>PG</td>\n",
       "      <td>45.24</td>\n",
       "      <td>9700</td>\n",
       "      <td>SAC@NO</td>\n",
       "      <td>SAC</td>\n",
       "      <td>NaN</td>\n",
       "      <td>1</td>\n",
       "      <td>de-aaron-fox</td>\n",
       "      <td>...</td>\n",
       "      <td>7.1</td>\n",
       "      <td>4.1</td>\n",
       "      <td>5.8</td>\n",
       "      <td>4.8</td>\n",
       "      <td>2.0</td>\n",
       "      <td>3.4</td>\n",
       "      <td>9.3</td>\n",
       "      <td>6.0</td>\n",
       "      <td>4.4</td>\n",
       "      <td>2.9</td>\n",
       "    </tr>\n",
       "    <tr>\n",
       "      <th>4</th>\n",
       "      <td>101897-19067</td>\n",
       "      <td>CJ McCollum</td>\n",
       "      <td>PG/SG</td>\n",
       "      <td>34.94</td>\n",
       "      <td>8400</td>\n",
       "      <td>SAC@NO</td>\n",
       "      <td>NO</td>\n",
       "      <td>NaN</td>\n",
       "      <td>0</td>\n",
       "      <td>C-J-McCollum</td>\n",
       "      <td>...</td>\n",
       "      <td>-25.6</td>\n",
       "      <td>-19.5</td>\n",
       "      <td>-7.9</td>\n",
       "      <td>-7.3</td>\n",
       "      <td>-3.0</td>\n",
       "      <td>-11.2</td>\n",
       "      <td>-16.7</td>\n",
       "      <td>-12.8</td>\n",
       "      <td>-17.5</td>\n",
       "      <td>-10.9</td>\n",
       "    </tr>\n",
       "  </tbody>\n",
       "</table>\n",
       "<p>3 rows × 34 columns</p>\n",
       "</div>"
      ],
      "text/plain": [
       "             Id          Nickname Position   FPPG  Salary    Game Team  \\\n",
       "0  101897-59358  Domantas Sabonis     C/PF  49.27   10400  SAC@NO  SAC   \n",
       "1  101897-80810      De'Aaron Fox       PG  45.24    9700  SAC@NO  SAC   \n",
       "4  101897-19067       CJ McCollum    PG/SG  34.94    8400  SAC@NO   NO   \n",
       "\n",
       "  Injury Indicator  Stud            Suffix  ...  sim10  sim11  sim12  sim13  \\\n",
       "0              NaN     1  Domantas-Sabonis  ...   16.5   13.2   12.1   12.0   \n",
       "1              NaN     1      de-aaron-fox  ...    7.1    4.1    5.8    4.8   \n",
       "4              NaN     0      C-J-McCollum  ...  -25.6  -19.5   -7.9   -7.3   \n",
       "\n",
       "   sim14  sim15  sim16  sim17  sim18  sim19  \n",
       "0    7.5    2.8    9.1    1.1    2.5   15.8  \n",
       "1    2.0    3.4    9.3    6.0    4.4    2.9  \n",
       "4   -3.0  -11.2  -16.7  -12.8  -17.5  -10.9  \n",
       "\n",
       "[3 rows x 34 columns]"
      ]
     },
     "execution_count": 7,
     "metadata": {},
     "output_type": "execute_result"
    }
   ],
   "source": [
    "base = dat.merge(\n",
    "    nf_summary[['FP_mean', 'FP_SE', 'Minutes']],\n",
    "    how = 'left', left_on = 'Nickname', right_index = True\n",
    ")\n",
    "\n",
    "# drop players without actuals; likely due to URL mapping\n",
    "na_mask = base['FP_SE'].isna()\n",
    "print(f'Dropping {sum(na_mask)} players due to missing FP_SE')\n",
    "print([name for name in base.loc[na_mask, 'Nickname']])\n",
    "base = base[~na_mask]\n",
    "\n",
    "# add vars for regression\n",
    "for p in ['PG', 'SG', 'SF', 'PF', 'C']:\n",
    "    base[p] = base['Position'].str.contains(p) * 1\n",
    "    \n",
    "x_vars = ['FPPG', 'Salary', 'FP_mean', 'FP_SE', 'Minutes', 'PG', 'SG', 'SF', 'PF', 'C']\n",
    "# x_weights = [.2551, .00496, -.00775, .17621, .29893, 1.15761, 2.0473, 2.47937, -1.06842, 5.41944]\n",
    "x_weights = [.9249, -.0052, 1.5633, 1.1063, -1.7343, 3.1635, -5.5410, 6.21822, -4.4943, 3.3408]\n",
    "\n",
    "base['FP_fitted'] = round((base[x_vars] * x_weights).sum(axis = 'columns'), 2)\n",
    "\n",
    "\n",
    "# simulate games\n",
    "# model: ~ N(FPTS, FP_SE)\n",
    "N_sims = 20\n",
    "\n",
    "for i in range(N_sims):\n",
    "    norm = np.round(\n",
    "        # normally distributed, centered at recent actuals, wtih standard error estimated from actuals\n",
    "        np.random.normal(base['FP_fitted'], base['FP_SE']), 1\n",
    "    )\n",
    "    \n",
    "    injury_factor = base['Injury Indicator'].apply(\n",
    "        # 50/50 change GTD will play\n",
    "        lambda x: 1 if x != x else (np.random.uniform() < .5)*1\n",
    "    )\n",
    "    \n",
    "    # set sim value\n",
    "    base[f'sim{i}'] = norm * injury_factor\n",
    "\n",
    "base.drop(columns = ['PG', 'SG', 'SF', 'PF', 'C'], inplace = True)\n",
    "base.head(3)"
   ]
  },
  {
   "cell_type": "markdown",
   "id": "f4914025-ae59-46a6-8998-0e796ef06ac2",
   "metadata": {},
   "source": [
    "## Optimize Rosters"
   ]
  },
  {
   "cell_type": "code",
   "execution_count": 8,
   "id": "07fe0d79-e59b-4146-b5eb-a51ddb792288",
   "metadata": {
    "tags": []
   },
   "outputs": [
    {
     "name": "stdout",
     "output_type": "stream",
     "text": [
      "Non-optimal solution in columns sim0.\n",
      "Non-optimal solution in columns sim1.\n",
      "Non-optimal solution in columns sim2.\n",
      "Non-optimal solution in columns sim3.\n",
      "Non-optimal solution in columns sim4.\n",
      "Non-optimal solution in columns sim5.\n",
      "Non-optimal solution in columns sim6.\n",
      "Non-optimal solution in columns sim7.\n",
      "Non-optimal solution in columns sim8.\n",
      "Non-optimal solution in columns sim9.\n",
      "Non-optimal solution in columns sim10.\n",
      "Non-optimal solution in columns sim11.\n",
      "Non-optimal solution in columns sim12.\n",
      "Non-optimal solution in columns sim13.\n",
      "Non-optimal solution in columns sim14.\n",
      "Non-optimal solution in columns sim15.\n",
      "Non-optimal solution in columns sim16.\n",
      "Non-optimal solution in columns sim17.\n",
      "Non-optimal solution in columns sim18.\n",
      "Non-optimal solution in columns sim19.\n"
     ]
    }
   ],
   "source": [
    "# create dataframe from ground up for Linear Program\n",
    "cols = ['Id', 'Nickname', 'Position', 'Salary', 'Game', 'Team', 'Injury Indicator', 'Minutes', 'Stud']\n",
    "\n",
    "cols = cols + [f'sim{i}' for i in range(N_sims)]\n",
    "\n",
    "sim = runSimulation(create_lp_df(base[cols]), n_sims=N_sims, n_studs=3)"
   ]
  },
  {
   "cell_type": "markdown",
   "id": "5e02d6b6-5996-41b7-9ec3-6130ec9eedfa",
   "metadata": {},
   "source": [
    "## Generate Roster Export"
   ]
  },
  {
   "cell_type": "code",
   "execution_count": 9,
   "id": "e3ec7b42-0c67-4527-871e-97343fa68dc9",
   "metadata": {
    "tags": []
   },
   "outputs": [
    {
     "data": {
      "text/html": [
       "<div>\n",
       "<style scoped>\n",
       "    .dataframe tbody tr th:only-of-type {\n",
       "        vertical-align: middle;\n",
       "    }\n",
       "\n",
       "    .dataframe tbody tr th {\n",
       "        vertical-align: top;\n",
       "    }\n",
       "\n",
       "    .dataframe thead th {\n",
       "        text-align: right;\n",
       "    }\n",
       "</style>\n",
       "<table border=\"1\" class=\"dataframe\">\n",
       "  <thead>\n",
       "    <tr style=\"text-align: right;\">\n",
       "      <th></th>\n",
       "      <th>Id</th>\n",
       "      <th>Nickname</th>\n",
       "      <th>Position</th>\n",
       "      <th>Salary</th>\n",
       "      <th>Injury Indicator</th>\n",
       "      <th>Minutes</th>\n",
       "      <th>sim0</th>\n",
       "      <th>PG</th>\n",
       "      <th>SG</th>\n",
       "      <th>SF</th>\n",
       "      <th>PF</th>\n",
       "      <th>C</th>\n",
       "    </tr>\n",
       "  </thead>\n",
       "  <tbody>\n",
       "    <tr>\n",
       "      <th>3</th>\n",
       "      <td>101897-19067</td>\n",
       "      <td>CJ McCollum</td>\n",
       "      <td>PG/SG</td>\n",
       "      <td>8400</td>\n",
       "      <td>NaN</td>\n",
       "      <td>33.73</td>\n",
       "      <td>-12.9</td>\n",
       "      <td>1</td>\n",
       "      <td>1</td>\n",
       "      <td>0</td>\n",
       "      <td>0</td>\n",
       "      <td>0</td>\n",
       "    </tr>\n",
       "    <tr>\n",
       "      <th>16</th>\n",
       "      <td>101897-171669</td>\n",
       "      <td>Keon Ellis</td>\n",
       "      <td>SG/PG</td>\n",
       "      <td>5600</td>\n",
       "      <td>NaN</td>\n",
       "      <td>31.91</td>\n",
       "      <td>-21.6</td>\n",
       "      <td>1</td>\n",
       "      <td>1</td>\n",
       "      <td>0</td>\n",
       "      <td>0</td>\n",
       "      <td>0</td>\n",
       "    </tr>\n",
       "    <tr>\n",
       "      <th>17</th>\n",
       "      <td>101897-171669</td>\n",
       "      <td>Keon Ellis</td>\n",
       "      <td>SG/PG</td>\n",
       "      <td>5600</td>\n",
       "      <td>NaN</td>\n",
       "      <td>31.91</td>\n",
       "      <td>-21.6</td>\n",
       "      <td>1</td>\n",
       "      <td>1</td>\n",
       "      <td>0</td>\n",
       "      <td>0</td>\n",
       "      <td>0</td>\n",
       "    </tr>\n",
       "    <tr>\n",
       "      <th>2</th>\n",
       "      <td>101897-80810</td>\n",
       "      <td>De'Aaron Fox</td>\n",
       "      <td>PG</td>\n",
       "      <td>9700</td>\n",
       "      <td>NaN</td>\n",
       "      <td>35.03</td>\n",
       "      <td>5.8</td>\n",
       "      <td>1</td>\n",
       "      <td>0</td>\n",
       "      <td>0</td>\n",
       "      <td>0</td>\n",
       "      <td>0</td>\n",
       "    </tr>\n",
       "    <tr>\n",
       "      <th>7</th>\n",
       "      <td>101897-171787</td>\n",
       "      <td>Keegan Murray</td>\n",
       "      <td>SF/PF</td>\n",
       "      <td>6800</td>\n",
       "      <td>NaN</td>\n",
       "      <td>36.17</td>\n",
       "      <td>-9.7</td>\n",
       "      <td>0</td>\n",
       "      <td>0</td>\n",
       "      <td>1</td>\n",
       "      <td>1</td>\n",
       "      <td>0</td>\n",
       "    </tr>\n",
       "    <tr>\n",
       "      <th>8</th>\n",
       "      <td>101897-171787</td>\n",
       "      <td>Keegan Murray</td>\n",
       "      <td>SF/PF</td>\n",
       "      <td>6800</td>\n",
       "      <td>NaN</td>\n",
       "      <td>36.17</td>\n",
       "      <td>-9.7</td>\n",
       "      <td>0</td>\n",
       "      <td>0</td>\n",
       "      <td>1</td>\n",
       "      <td>1</td>\n",
       "      <td>0</td>\n",
       "    </tr>\n",
       "    <tr>\n",
       "      <th>1</th>\n",
       "      <td>101897-59358</td>\n",
       "      <td>Domantas Sabonis</td>\n",
       "      <td>C/PF</td>\n",
       "      <td>10400</td>\n",
       "      <td>NaN</td>\n",
       "      <td>35.44</td>\n",
       "      <td>5.5</td>\n",
       "      <td>0</td>\n",
       "      <td>0</td>\n",
       "      <td>0</td>\n",
       "      <td>1</td>\n",
       "      <td>1</td>\n",
       "    </tr>\n",
       "    <tr>\n",
       "      <th>15</th>\n",
       "      <td>101897-14503</td>\n",
       "      <td>Jonas Valanciunas</td>\n",
       "      <td>C</td>\n",
       "      <td>5700</td>\n",
       "      <td>NaN</td>\n",
       "      <td>14.62</td>\n",
       "      <td>-3.5</td>\n",
       "      <td>0</td>\n",
       "      <td>0</td>\n",
       "      <td>0</td>\n",
       "      <td>0</td>\n",
       "      <td>1</td>\n",
       "    </tr>\n",
       "  </tbody>\n",
       "</table>\n",
       "</div>"
      ],
      "text/plain": [
       "               Id           Nickname Position Salary Injury Indicator Minutes  \\\n",
       "3    101897-19067        CJ McCollum    PG/SG   8400              NaN   33.73   \n",
       "16  101897-171669         Keon Ellis    SG/PG   5600              NaN   31.91   \n",
       "17  101897-171669         Keon Ellis    SG/PG   5600              NaN   31.91   \n",
       "2    101897-80810       De'Aaron Fox       PG   9700              NaN   35.03   \n",
       "7   101897-171787      Keegan Murray    SF/PF   6800              NaN   36.17   \n",
       "8   101897-171787      Keegan Murray    SF/PF   6800              NaN   36.17   \n",
       "1    101897-59358   Domantas Sabonis     C/PF  10400              NaN   35.44   \n",
       "15   101897-14503  Jonas Valanciunas        C   5700              NaN   14.62   \n",
       "\n",
       "    sim0  PG  SG  SF  PF  C  \n",
       "3  -12.9   1   1   0   0  0  \n",
       "16 -21.6   1   1   0   0  0  \n",
       "17 -21.6   1   1   0   0  0  \n",
       "2    5.8   1   0   0   0  0  \n",
       "7   -9.7   0   0   1   1  0  \n",
       "8   -9.7   0   0   1   1  0  \n",
       "1    5.5   0   0   0   1  1  \n",
       "15  -3.5   0   0   0   0  1  "
      ]
     },
     "execution_count": 9,
     "metadata": {},
     "output_type": "execute_result"
    }
   ],
   "source": [
    "ind = 0\n",
    "POSITIONS = ['PG', 'SG', 'SF', 'PF', 'C']\n",
    "sim[sim[f'roster{ind}'] == 1].sort_values(POSITIONS, ascending = False)[\n",
    "    ['Id', 'Nickname', 'Position', 'Salary', 'Injury Indicator', 'Minutes', f'sim{ind}'] + POSITIONS\n",
    "]"
   ]
  },
  {
   "cell_type": "code",
   "execution_count": 10,
   "id": "e78af5bd-4537-4710-8e88-af75ffab5506",
   "metadata": {
    "tags": []
   },
   "outputs": [
    {
     "ename": "ValueError",
     "evalue": "Length of values (7) does not match length of index (8)",
     "output_type": "error",
     "traceback": [
      "\u001b[1;31m---------------------------------------------------------------------------\u001b[0m",
      "\u001b[1;31mValueError\u001b[0m                                Traceback (most recent call last)",
      "Cell \u001b[1;32mIn[10], line 10\u001b[0m\n\u001b[0;32m      7\u001b[0m     temp \u001b[38;5;241m=\u001b[39m sim[sim[\u001b[38;5;124mf\u001b[39m\u001b[38;5;124m'\u001b[39m\u001b[38;5;124mroster\u001b[39m\u001b[38;5;132;01m{\u001b[39;00mi\u001b[38;5;132;01m}\u001b[39;00m\u001b[38;5;124m'\u001b[39m] \u001b[38;5;241m==\u001b[39m \u001b[38;5;241m1\u001b[39m]\u001b[38;5;241m.\u001b[39msort_values(POSITIONS, ascending \u001b[38;5;241m=\u001b[39m \u001b[38;5;28;01mFalse\u001b[39;00m)\n\u001b[0;32m      9\u001b[0m     \u001b[38;5;66;03m# append to export df\u001b[39;00m\n\u001b[1;32m---> 10\u001b[0m     export[\u001b[38;5;124mf\u001b[39m\u001b[38;5;124m'\u001b[39m\u001b[38;5;124mroster\u001b[39m\u001b[38;5;132;01m{\u001b[39;00mi\u001b[38;5;132;01m}\u001b[39;00m\u001b[38;5;124m'\u001b[39m] \u001b[38;5;241m=\u001b[39m temp[col]\u001b[38;5;241m.\u001b[39mvalues\n\u001b[0;32m     12\u001b[0m export \u001b[38;5;241m=\u001b[39m export\u001b[38;5;241m.\u001b[39mT\u001b[38;5;241m.\u001b[39msort_values([\u001b[38;5;241m8\u001b[39m, \u001b[38;5;241m7\u001b[39m, \u001b[38;5;241m6\u001b[39m, \u001b[38;5;241m5\u001b[39m, \u001b[38;5;241m4\u001b[39m, \u001b[38;5;241m3\u001b[39m, \u001b[38;5;241m2\u001b[39m, \u001b[38;5;241m1\u001b[39m, \u001b[38;5;241m0\u001b[39m])\n\u001b[0;32m     14\u001b[0m export\u001b[38;5;241m.\u001b[39mcolumns \u001b[38;5;241m=\u001b[39m [\u001b[38;5;124m'\u001b[39m\u001b[38;5;124mPG\u001b[39m\u001b[38;5;124m'\u001b[39m, \u001b[38;5;124m'\u001b[39m\u001b[38;5;124mPG\u001b[39m\u001b[38;5;124m'\u001b[39m, \u001b[38;5;124m'\u001b[39m\u001b[38;5;124mSG\u001b[39m\u001b[38;5;124m'\u001b[39m, \u001b[38;5;124m'\u001b[39m\u001b[38;5;124mSG\u001b[39m\u001b[38;5;124m'\u001b[39m, \u001b[38;5;124m'\u001b[39m\u001b[38;5;124mSF\u001b[39m\u001b[38;5;124m'\u001b[39m, \u001b[38;5;124m'\u001b[39m\u001b[38;5;124mSF\u001b[39m\u001b[38;5;124m'\u001b[39m, \u001b[38;5;124m'\u001b[39m\u001b[38;5;124mPF\u001b[39m\u001b[38;5;124m'\u001b[39m, \u001b[38;5;124m'\u001b[39m\u001b[38;5;124mPF\u001b[39m\u001b[38;5;124m'\u001b[39m, \u001b[38;5;124m'\u001b[39m\u001b[38;5;124mC\u001b[39m\u001b[38;5;124m'\u001b[39m]\n",
      "File \u001b[1;32mC:\\ProgramData\\anaconda3\\Lib\\site-packages\\pandas\\core\\frame.py:3980\u001b[0m, in \u001b[0;36mDataFrame.__setitem__\u001b[1;34m(self, key, value)\u001b[0m\n\u001b[0;32m   3977\u001b[0m     \u001b[38;5;28mself\u001b[39m\u001b[38;5;241m.\u001b[39m_setitem_array([key], value)\n\u001b[0;32m   3978\u001b[0m \u001b[38;5;28;01melse\u001b[39;00m:\n\u001b[0;32m   3979\u001b[0m     \u001b[38;5;66;03m# set column\u001b[39;00m\n\u001b[1;32m-> 3980\u001b[0m     \u001b[38;5;28mself\u001b[39m\u001b[38;5;241m.\u001b[39m_set_item(key, value)\n",
      "File \u001b[1;32mC:\\ProgramData\\anaconda3\\Lib\\site-packages\\pandas\\core\\frame.py:4174\u001b[0m, in \u001b[0;36mDataFrame._set_item\u001b[1;34m(self, key, value)\u001b[0m\n\u001b[0;32m   4164\u001b[0m \u001b[38;5;28;01mdef\u001b[39;00m \u001b[38;5;21m_set_item\u001b[39m(\u001b[38;5;28mself\u001b[39m, key, value) \u001b[38;5;241m-\u001b[39m\u001b[38;5;241m>\u001b[39m \u001b[38;5;28;01mNone\u001b[39;00m:\n\u001b[0;32m   4165\u001b[0m \u001b[38;5;250m    \u001b[39m\u001b[38;5;124;03m\"\"\"\u001b[39;00m\n\u001b[0;32m   4166\u001b[0m \u001b[38;5;124;03m    Add series to DataFrame in specified column.\u001b[39;00m\n\u001b[0;32m   4167\u001b[0m \n\u001b[1;32m   (...)\u001b[0m\n\u001b[0;32m   4172\u001b[0m \u001b[38;5;124;03m    ensure homogeneity.\u001b[39;00m\n\u001b[0;32m   4173\u001b[0m \u001b[38;5;124;03m    \"\"\"\u001b[39;00m\n\u001b[1;32m-> 4174\u001b[0m     value \u001b[38;5;241m=\u001b[39m \u001b[38;5;28mself\u001b[39m\u001b[38;5;241m.\u001b[39m_sanitize_column(value)\n\u001b[0;32m   4176\u001b[0m     \u001b[38;5;28;01mif\u001b[39;00m (\n\u001b[0;32m   4177\u001b[0m         key \u001b[38;5;129;01min\u001b[39;00m \u001b[38;5;28mself\u001b[39m\u001b[38;5;241m.\u001b[39mcolumns\n\u001b[0;32m   4178\u001b[0m         \u001b[38;5;129;01mand\u001b[39;00m value\u001b[38;5;241m.\u001b[39mndim \u001b[38;5;241m==\u001b[39m \u001b[38;5;241m1\u001b[39m\n\u001b[0;32m   4179\u001b[0m         \u001b[38;5;129;01mand\u001b[39;00m \u001b[38;5;129;01mnot\u001b[39;00m is_extension_array_dtype(value)\n\u001b[0;32m   4180\u001b[0m     ):\n\u001b[0;32m   4181\u001b[0m         \u001b[38;5;66;03m# broadcast across multiple columns if necessary\u001b[39;00m\n\u001b[0;32m   4182\u001b[0m         \u001b[38;5;28;01mif\u001b[39;00m \u001b[38;5;129;01mnot\u001b[39;00m \u001b[38;5;28mself\u001b[39m\u001b[38;5;241m.\u001b[39mcolumns\u001b[38;5;241m.\u001b[39mis_unique \u001b[38;5;129;01mor\u001b[39;00m \u001b[38;5;28misinstance\u001b[39m(\u001b[38;5;28mself\u001b[39m\u001b[38;5;241m.\u001b[39mcolumns, MultiIndex):\n",
      "File \u001b[1;32mC:\\ProgramData\\anaconda3\\Lib\\site-packages\\pandas\\core\\frame.py:4915\u001b[0m, in \u001b[0;36mDataFrame._sanitize_column\u001b[1;34m(self, value)\u001b[0m\n\u001b[0;32m   4912\u001b[0m     \u001b[38;5;28;01mreturn\u001b[39;00m _reindex_for_setitem(Series(value), \u001b[38;5;28mself\u001b[39m\u001b[38;5;241m.\u001b[39mindex)\n\u001b[0;32m   4914\u001b[0m \u001b[38;5;28;01mif\u001b[39;00m is_list_like(value):\n\u001b[1;32m-> 4915\u001b[0m     com\u001b[38;5;241m.\u001b[39mrequire_length_match(value, \u001b[38;5;28mself\u001b[39m\u001b[38;5;241m.\u001b[39mindex)\n\u001b[0;32m   4916\u001b[0m \u001b[38;5;28;01mreturn\u001b[39;00m sanitize_array(value, \u001b[38;5;28mself\u001b[39m\u001b[38;5;241m.\u001b[39mindex, copy\u001b[38;5;241m=\u001b[39m\u001b[38;5;28;01mTrue\u001b[39;00m, allow_2d\u001b[38;5;241m=\u001b[39m\u001b[38;5;28;01mTrue\u001b[39;00m)\n",
      "File \u001b[1;32mC:\\ProgramData\\anaconda3\\Lib\\site-packages\\pandas\\core\\common.py:571\u001b[0m, in \u001b[0;36mrequire_length_match\u001b[1;34m(data, index)\u001b[0m\n\u001b[0;32m    567\u001b[0m \u001b[38;5;250m\u001b[39m\u001b[38;5;124;03m\"\"\"\u001b[39;00m\n\u001b[0;32m    568\u001b[0m \u001b[38;5;124;03mCheck the length of data matches the length of the index.\u001b[39;00m\n\u001b[0;32m    569\u001b[0m \u001b[38;5;124;03m\"\"\"\u001b[39;00m\n\u001b[0;32m    570\u001b[0m \u001b[38;5;28;01mif\u001b[39;00m \u001b[38;5;28mlen\u001b[39m(data) \u001b[38;5;241m!=\u001b[39m \u001b[38;5;28mlen\u001b[39m(index):\n\u001b[1;32m--> 571\u001b[0m     \u001b[38;5;28;01mraise\u001b[39;00m \u001b[38;5;167;01mValueError\u001b[39;00m(\n\u001b[0;32m    572\u001b[0m         \u001b[38;5;124m\"\u001b[39m\u001b[38;5;124mLength of values \u001b[39m\u001b[38;5;124m\"\u001b[39m\n\u001b[0;32m    573\u001b[0m         \u001b[38;5;124mf\u001b[39m\u001b[38;5;124m\"\u001b[39m\u001b[38;5;124m(\u001b[39m\u001b[38;5;132;01m{\u001b[39;00m\u001b[38;5;28mlen\u001b[39m(data)\u001b[38;5;132;01m}\u001b[39;00m\u001b[38;5;124m) \u001b[39m\u001b[38;5;124m\"\u001b[39m\n\u001b[0;32m    574\u001b[0m         \u001b[38;5;124m\"\u001b[39m\u001b[38;5;124mdoes not match length of index \u001b[39m\u001b[38;5;124m\"\u001b[39m\n\u001b[0;32m    575\u001b[0m         \u001b[38;5;124mf\u001b[39m\u001b[38;5;124m\"\u001b[39m\u001b[38;5;124m(\u001b[39m\u001b[38;5;132;01m{\u001b[39;00m\u001b[38;5;28mlen\u001b[39m(index)\u001b[38;5;132;01m}\u001b[39;00m\u001b[38;5;124m)\u001b[39m\u001b[38;5;124m\"\u001b[39m\n\u001b[0;32m    576\u001b[0m     )\n",
      "\u001b[1;31mValueError\u001b[0m: Length of values (7) does not match length of index (8)"
     ]
    }
   ],
   "source": [
    "export = pd.DataFrame()\n",
    "\n",
    "col = 'Id'\n",
    "\n",
    "for i in range(N_sims):\n",
    "    # filter to specific roster\n",
    "    temp = sim[sim[f'roster{i}'] == 1].sort_values(POSITIONS, ascending = False)\n",
    "    \n",
    "    # append to export df\n",
    "    export[f'roster{i}'] = temp[col].values\n",
    "    \n",
    "export = export.T.sort_values([8, 7, 6, 5, 4, 3, 2, 1, 0])\n",
    "\n",
    "export.columns = ['PG', 'PG', 'SG', 'SG', 'SF', 'SF', 'PF', 'PF', 'C']"
   ]
  },
  {
   "cell_type": "code",
   "execution_count": null,
   "id": "5c83c974-d1eb-42ee-a9e3-222f6ad01c10",
   "metadata": {
    "tags": []
   },
   "outputs": [],
   "source": [
    "# export.to_csv('NBA export.csv', index = False)"
   ]
  },
  {
   "cell_type": "code",
   "execution_count": null,
   "id": "bbc74717-531d-4780-add1-e0462d976816",
   "metadata": {},
   "outputs": [],
   "source": []
  }
 ],
 "metadata": {
  "kernelspec": {
   "display_name": "Python 3 (ipykernel)",
   "language": "python",
   "name": "python3"
  },
  "language_info": {
   "codemirror_mode": {
    "name": "ipython",
    "version": 3
   },
   "file_extension": ".py",
   "mimetype": "text/x-python",
   "name": "python",
   "nbconvert_exporter": "python",
   "pygments_lexer": "ipython3",
   "version": "3.11.4"
  }
 },
 "nbformat": 4,
 "nbformat_minor": 5
}
