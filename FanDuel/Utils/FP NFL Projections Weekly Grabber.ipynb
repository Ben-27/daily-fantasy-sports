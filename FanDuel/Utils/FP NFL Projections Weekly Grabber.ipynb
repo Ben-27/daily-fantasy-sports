{
 "cells": [
  {
   "cell_type": "markdown",
   "id": "96b2b380-0b68-4bef-bfb7-1f5f03c03026",
   "metadata": {},
   "source": [
    "## Weekly Data Updater"
   ]
  },
  {
   "cell_type": "code",
   "execution_count": 1,
   "id": "828ffc50-1c5a-4d37-94a6-4eee15c62ba9",
   "metadata": {
    "tags": []
   },
   "outputs": [],
   "source": [
    "import pandas as pd\n",
    "from datetime import datetime"
   ]
  },
  {
   "cell_type": "code",
   "execution_count": 2,
   "id": "76a4237d-e9b7-4438-94eb-c2dcd3c61ff5",
   "metadata": {
    "tags": []
   },
   "outputs": [],
   "source": [
    "YEAR = 2023\n",
    "WEEK = 15\n",
    "\n",
    "dt = datetime.today()\n",
    "TODAY = f'{str(dt.year)[-2:]}-{str(dt.month).zfill(2)}-{str(dt.day).zfill(2)}'\n",
    "\n",
    "positions = ['qb', 'rb', 'wr', 'te', 'dst']"
   ]
  },
  {
   "cell_type": "code",
   "execution_count": 3,
   "id": "069c58c7-8f90-4ac4-bef3-860e4dae66c1",
   "metadata": {
    "tags": []
   },
   "outputs": [],
   "source": [
    "data = {}\n",
    "for pos in positions:\n",
    "    url = f'https://www.fantasypros.com/nfl/projections/{pos}.php'\n",
    "    data[pos] = pd.read_html(url)[0]"
   ]
  },
  {
   "cell_type": "code",
   "execution_count": 4,
   "id": "8ecd1753-657d-43a2-a86b-1a46118ba59d",
   "metadata": {
    "tags": []
   },
   "outputs": [],
   "source": [
    "col_mapper = {\n",
    "    'qb':['Player', 'PassATT', 'PassCMP', 'PassYDS', 'PassTD', 'PassInt', \n",
    "           'RushAtt', 'RushYDS', 'RushTD', 'FL', 'FPTS'],\n",
    "    'rb':['Player', 'RushATT', 'RushYDS', 'RushTD',\n",
    "           'RecREC', 'RecYDS', 'RecTD', 'FL', 'FPTS'],\n",
    "    'wr':['Player', 'RecREC', 'RecYDS', 'RecTD',\n",
    "           'RushATT', 'RushYDS', 'RushTD', 'FL', 'FPTS'],\n",
    "    'te':['Player', 'RecYDS', 'RecTD', 'RecTD', 'FL', 'FPTS'],\n",
    "    'dst':['Player', 'SACK', 'INT', 'FR', 'FF', 'DEF TD', \n",
    "            'SAFETY', 'PA', 'YDS AGN', 'FPTS']\n",
    "}"
   ]
  },
  {
   "cell_type": "code",
   "execution_count": 5,
   "id": "24b8c02e-04d9-44fb-82f3-43e3426d5ae0",
   "metadata": {
    "tags": []
   },
   "outputs": [],
   "source": [
    "sheets = {}\n",
    "for pos in data.keys():\n",
    "    temp = data[pos].copy()\n",
    "    temp.columns = col_mapper[pos]\n",
    "    # add columns for start ems\n",
    "    temp['NFL'] = ''\n",
    "    temp['SI'] = ''\n",
    "    temp['Yahoo'] = ''\n",
    "    sheets[pos] = temp"
   ]
  },
  {
   "cell_type": "code",
   "execution_count": 6,
   "id": "c61b2023-d554-47db-912c-364943d895f9",
   "metadata": {
    "tags": []
   },
   "outputs": [],
   "source": [
    "# write one week of actuals\n",
    "with pd.ExcelWriter(f'../Lib/Projections/NFL/{YEAR}-{str(WEEK).zfill(2)} Fantasy Pros Projections {TODAY}.xlsx') as writer:\n",
    "    for i in sheets.keys():\n",
    "        sheets[i].to_excel(writer, sheet_name=i, index=False)"
   ]
  },
  {
   "cell_type": "code",
   "execution_count": null,
   "id": "35326f4a-7c4a-4b84-b77b-599adf86233d",
   "metadata": {},
   "outputs": [],
   "source": []
  }
 ],
 "metadata": {
  "kernelspec": {
   "display_name": "Python 3 (ipykernel)",
   "language": "python",
   "name": "python3"
  },
  "language_info": {
   "codemirror_mode": {
    "name": "ipython",
    "version": 3
   },
   "file_extension": ".py",
   "mimetype": "text/x-python",
   "name": "python",
   "nbconvert_exporter": "python",
   "pygments_lexer": "ipython3",
   "version": "3.11.4"
  }
 },
 "nbformat": 4,
 "nbformat_minor": 5
}
