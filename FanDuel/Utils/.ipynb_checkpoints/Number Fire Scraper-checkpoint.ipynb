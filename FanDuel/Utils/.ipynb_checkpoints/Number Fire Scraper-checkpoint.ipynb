{
 "cells": [
  {
   "cell_type": "code",
   "execution_count": 2,
   "id": "3c49e900-ce22-49cd-8b27-33d732a721d8",
   "metadata": {
    "tags": []
   },
   "outputs": [],
   "source": [
    "import pandas as pd\n",
    "import requests\n",
    "from bs4 import BeautifulSoup"
   ]
  },
  {
   "cell_type": "code",
   "execution_count": 3,
   "id": "816bc5d7-5a90-4345-ac0d-b1430e29a464",
   "metadata": {
    "tags": []
   },
   "outputs": [],
   "source": [
    "def _extract_data_from_div(d):\n",
    "    \"\"\"\n",
    "    Returns list of data points\n",
    "    \"\"\"\n",
    "    position = d['data-position']\n",
    "    team = d['data-team']\n",
    "    first = d['data-first-name']\n",
    "    last = d['data-last-name']\n",
    "    # convert full suffix to player-specific\n",
    "    suffix = d.find('a', href=True)['href']\n",
    "    suffix = suffix[suffix.find('players/')+8:]\n",
    "    \n",
    "    return [first, last, position, team, suffix]\n",
    "\n",
    "def _build_df(data):\n",
    "    \"\"\"\n",
    "    Build dataframe by iterating through player list\n",
    "    \"\"\"\n",
    "    df = pd.DataFrame(columns=['first', 'last', 'position', 'team', 'url_suffix'])\n",
    "    for d in data:\n",
    "        df.loc[df.shape[0]] = _extract_data_from_div(d)\n",
    "    return df\n",
    "\n",
    "def download_nf_players():\n",
    "    \"\"\"\n",
    "    Downloads players from numberfire.com/nba/players\n",
    "    \n",
    "    Returns dataframe: first, last, position, team, url_suffix\n",
    "    \"\"\"\n",
    "    page = requests.get('https://www.numberfire.com/nba/players')\n",
    "    soup = BeautifulSoup(page.content, 'html.parser')\n",
    "    \n",
    "    # find data via class attribute\n",
    "    plys = soup.find_all(class_='all-players__indiv')\n",
    "    return _build_df(plys)"
   ]
  },
  {
   "cell_type": "code",
   "execution_count": 4,
   "id": "d20ab30d-1dfd-405b-b701-0d93571a8947",
   "metadata": {
    "tags": []
   },
   "outputs": [],
   "source": [
    "def get_game_log(url_suffix):\n",
    "    \"\"\"\n",
    "    Returns dict of tables from numberfire.com/nba/players/daily-fantasy/<player-suffix>\n",
    "    \n",
    "    Keys: 'past', 'upcoming'\n",
    "    \"\"\"\n",
    "    url = 'https://www.numberfire.com/nba/players/daily-fantasy/' + url_suffix\n",
    "    tables = pd.read_html(url)\n",
    "    \n",
    "    return {\n",
    "        'past': pd.concat([tables[2], tables[3]], axis='columns'),\n",
    "        'upcoming': pd.concat([tables[0], tables[1]], axis='columns')\n",
    "    }"
   ]
  },
  {
   "cell_type": "code",
   "execution_count": 5,
   "id": "a9303ca0-75fc-4549-9963-64e152aadbfa",
   "metadata": {
    "tags": []
   },
   "outputs": [],
   "source": [
    "def concatenate_logs(urls):\n",
    "    \"\"\"\n",
    "    Gets game logs for all players and concatenates tables\n",
    "    \n",
    "    Returns dict of dataframes\n",
    "    Keys: 'past', 'upcoming'\n",
    "    \"\"\"\n",
    "    past_logs = []\n",
    "    upcoming_logs = []\n",
    "    errored_urls = []\n",
    "    \n",
    "    for i, url_suffix in enumerate(urls):\n",
    "        try:\n",
    "            logs = get_game_log(url_suffix)\n",
    "\n",
    "            # add identifying column to each\n",
    "            logs['past']['url_suffix'] = url_suffix\n",
    "            past_logs.append(logs['past'])\n",
    "\n",
    "            logs['upcoming']['url_suffix'] = url_suffix\n",
    "            upcoming_logs.append(logs['upcoming'])\n",
    "        \n",
    "        except:\n",
    "            print(f'Error with {i}, {url_suffix}')\n",
    "            errored_urls.append(url_suffix)\n",
    "\n",
    "        # status bar\n",
    "        print(f\"{(i+1)/len(urls):6.1%} completed\\r\", end=\"\")\n",
    "        \n",
    "    return {'past': pd.concat(past_logs), 'upcoming': pd.concat(upcoming_logs), 'errors': errored_urls}        \n",
    "        "
   ]
  },
  {
   "cell_type": "code",
   "execution_count": 6,
   "id": "b262e079-dad2-4a33-b653-9f559ccf568a",
   "metadata": {
    "tags": []
   },
   "outputs": [],
   "source": [
    "# %time r = concatenate_logs(df.loc[:, 'url_suffix'])"
   ]
  },
  {
   "cell_type": "code",
   "execution_count": 7,
   "id": "b9aed4ad-6029-48c3-bbe1-78e4997d3cc3",
   "metadata": {
    "tags": []
   },
   "outputs": [],
   "source": [
    "# from concurrent.futures import ThreadPoolExecutor\n",
    "\n",
    "# def multithread_(urls):\n",
    "#     p = ThreadPoolExecutor(max_workers=16)\n",
    "#     results = p.map(concatenate_logs, urls)\n",
    "        \n",
    "#     return results, p.join()"
   ]
  },
  {
   "cell_type": "code",
   "execution_count": 8,
   "id": "84d6e19d-e3f7-4de4-902a-97ac91a889bd",
   "metadata": {
    "tags": []
   },
   "outputs": [],
   "source": [
    "# from multiprocessing import Pool\n",
    "# from multiprocessing import cpu_count\n",
    "\n",
    "# def simple_multiprocess(urls):\n",
    "#     with Pool(cpu_count()) as p:\n",
    "#         results = p.map(concatenat_logs, urls)\n",
    "#     return results\n",
    "\n",
    "# def multiprocess_(urls):\n",
    "#     p = Pool(cpu_count())\n",
    "#     results = p.map(concatenate_logs, urls)\n",
    "#     p.terminate()\n",
    "#     p.join()\n",
    "#     return results"
   ]
  },
  {
   "cell_type": "code",
   "execution_count": 9,
   "id": "cd22ca86-f9d4-4503-a192-861527f72f44",
   "metadata": {
    "tags": []
   },
   "outputs": [
    {
     "name": "stdout",
     "output_type": "stream",
     "text": [
      "CPU times: total: 609 ms\n",
      "Wall time: 2.21 s\n"
     ]
    },
    {
     "data": {
      "text/html": [
       "<div>\n",
       "<style scoped>\n",
       "    .dataframe tbody tr th:only-of-type {\n",
       "        vertical-align: middle;\n",
       "    }\n",
       "\n",
       "    .dataframe tbody tr th {\n",
       "        vertical-align: top;\n",
       "    }\n",
       "\n",
       "    .dataframe thead th {\n",
       "        text-align: right;\n",
       "    }\n",
       "</style>\n",
       "<table border=\"1\" class=\"dataframe\">\n",
       "  <thead>\n",
       "    <tr style=\"text-align: right;\">\n",
       "      <th></th>\n",
       "      <th>first</th>\n",
       "      <th>last</th>\n",
       "      <th>position</th>\n",
       "      <th>team</th>\n",
       "      <th>url_suffix</th>\n",
       "    </tr>\n",
       "  </thead>\n",
       "  <tbody>\n",
       "    <tr>\n",
       "      <th>0</th>\n",
       "      <td>A.J.</td>\n",
       "      <td>Green</td>\n",
       "      <td>SG</td>\n",
       "      <td>MIL</td>\n",
       "      <td>a-j-green</td>\n",
       "    </tr>\n",
       "    <tr>\n",
       "      <th>1</th>\n",
       "      <td>A.J.</td>\n",
       "      <td>Lawson</td>\n",
       "      <td>SG</td>\n",
       "      <td>DAL</td>\n",
       "      <td>a-j-lawson</td>\n",
       "    </tr>\n",
       "    <tr>\n",
       "      <th>2</th>\n",
       "      <td>Aaron</td>\n",
       "      <td>Gordon</td>\n",
       "      <td>F</td>\n",
       "      <td>DEN</td>\n",
       "      <td>aaron-gordon</td>\n",
       "    </tr>\n",
       "    <tr>\n",
       "      <th>3</th>\n",
       "      <td>Aaron</td>\n",
       "      <td>Holiday</td>\n",
       "      <td>PG</td>\n",
       "      <td>HOU</td>\n",
       "      <td>aaron-holiday</td>\n",
       "    </tr>\n",
       "    <tr>\n",
       "      <th>4</th>\n",
       "      <td>Aaron</td>\n",
       "      <td>Nesmith</td>\n",
       "      <td>SF</td>\n",
       "      <td>IND</td>\n",
       "      <td>aaron-nesmith</td>\n",
       "    </tr>\n",
       "    <tr>\n",
       "      <th>...</th>\n",
       "      <td>...</td>\n",
       "      <td>...</td>\n",
       "      <td>...</td>\n",
       "      <td>...</td>\n",
       "      <td>...</td>\n",
       "    </tr>\n",
       "    <tr>\n",
       "      <th>487</th>\n",
       "      <td>Yuta</td>\n",
       "      <td>Watanabe</td>\n",
       "      <td>PF</td>\n",
       "      <td>MEM</td>\n",
       "      <td>yuta-watanabe</td>\n",
       "    </tr>\n",
       "    <tr>\n",
       "      <th>488</th>\n",
       "      <td>Zach</td>\n",
       "      <td>Collins</td>\n",
       "      <td>C</td>\n",
       "      <td>SA</td>\n",
       "      <td>zach-collins</td>\n",
       "    </tr>\n",
       "    <tr>\n",
       "      <th>489</th>\n",
       "      <td>Zeke</td>\n",
       "      <td>Nnaji</td>\n",
       "      <td>PF</td>\n",
       "      <td>DEN</td>\n",
       "      <td>zeke-nnaji</td>\n",
       "    </tr>\n",
       "    <tr>\n",
       "      <th>490</th>\n",
       "      <td>Ziaire</td>\n",
       "      <td>Williams</td>\n",
       "      <td>SF</td>\n",
       "      <td>MEM</td>\n",
       "      <td>ziaire-williams</td>\n",
       "    </tr>\n",
       "    <tr>\n",
       "      <th>491</th>\n",
       "      <td>Zion</td>\n",
       "      <td>Williamson</td>\n",
       "      <td>SF</td>\n",
       "      <td>NO</td>\n",
       "      <td>zion-williamson</td>\n",
       "    </tr>\n",
       "  </tbody>\n",
       "</table>\n",
       "<p>492 rows × 5 columns</p>\n",
       "</div>"
      ],
      "text/plain": [
       "      first        last position team       url_suffix\n",
       "0      A.J.       Green       SG  MIL        a-j-green\n",
       "1      A.J.      Lawson       SG  DAL       a-j-lawson\n",
       "2     Aaron      Gordon        F  DEN     aaron-gordon\n",
       "3     Aaron     Holiday       PG  HOU    aaron-holiday\n",
       "4     Aaron     Nesmith       SF  IND    aaron-nesmith\n",
       "..      ...         ...      ...  ...              ...\n",
       "487    Yuta    Watanabe       PF  MEM    yuta-watanabe\n",
       "488    Zach     Collins        C   SA     zach-collins\n",
       "489    Zeke       Nnaji       PF  DEN       zeke-nnaji\n",
       "490  Ziaire    Williams       SF  MEM  ziaire-williams\n",
       "491    Zion  Williamson       SF   NO  zion-williamson\n",
       "\n",
       "[492 rows x 5 columns]"
      ]
     },
     "execution_count": 9,
     "metadata": {},
     "output_type": "execute_result"
    }
   ],
   "source": [
    "%time plys = download_nf_players()\n",
    "plys"
   ]
  },
  {
   "cell_type": "code",
   "execution_count": 11,
   "id": "0502efe4-89e6-4dd1-8166-508da3ed0130",
   "metadata": {
    "tags": []
   },
   "outputs": [
    {
     "name": "stdout",
     "output_type": "stream",
     "text": [
      "Error with 203, jalen-crutcher\n",
      "CPU times: total: 14.6 s\n",
      "Wall time: 8min 51s\n"
     ]
    }
   ],
   "source": [
    "%time logs = concatenate_logs(plys.loc[:, 'url_suffix'])"
   ]
  },
  {
   "cell_type": "code",
   "execution_count": 22,
   "id": "6eb6f944-e4d6-4f70-b86b-3ce98ff8358f",
   "metadata": {
    "tags": []
   },
   "outputs": [],
   "source": [
    "# with pd.ExcelWriter('20240228 NumberFire.xlsx') as writer:\n",
    "#     plys.to_excel(writer, sheet_name='players', index=False)\n",
    "#     logs['past'].to_excel(writer, sheet_name='past', index=False)\n",
    "#     logs['upcoming'].to_excel(writer, sheet_name='upcoming', index=False)"
   ]
  },
  {
   "cell_type": "code",
   "execution_count": 25,
   "id": "dbbca5b2-2ea2-478a-883c-d9df9d53d049",
   "metadata": {
    "tags": []
   },
   "outputs": [
    {
     "data": {
      "text/html": [
       "<div>\n",
       "<style scoped>\n",
       "    .dataframe tbody tr th:only-of-type {\n",
       "        vertical-align: middle;\n",
       "    }\n",
       "\n",
       "    .dataframe tbody tr th {\n",
       "        vertical-align: top;\n",
       "    }\n",
       "\n",
       "    .dataframe thead th {\n",
       "        text-align: right;\n",
       "    }\n",
       "</style>\n",
       "<table border=\"1\" class=\"dataframe\">\n",
       "  <thead>\n",
       "    <tr style=\"text-align: right;\">\n",
       "      <th></th>\n",
       "      <th>FP</th>\n",
       "      <th>MIN</th>\n",
       "    </tr>\n",
       "    <tr>\n",
       "      <th>url_suffix</th>\n",
       "      <th></th>\n",
       "      <th></th>\n",
       "    </tr>\n",
       "  </thead>\n",
       "  <tbody>\n",
       "    <tr>\n",
       "      <th>luka-doncic</th>\n",
       "      <td>63.55</td>\n",
       "      <td>37.348</td>\n",
       "    </tr>\n",
       "    <tr>\n",
       "      <th>nikola-jokic</th>\n",
       "      <td>62.68</td>\n",
       "      <td>35.159</td>\n",
       "    </tr>\n",
       "    <tr>\n",
       "      <th>shai-gilgeous-alexander</th>\n",
       "      <td>55.34</td>\n",
       "      <td>34.840</td>\n",
       "    </tr>\n",
       "    <tr>\n",
       "      <th>domantas-sabonis</th>\n",
       "      <td>54.98</td>\n",
       "      <td>37.220</td>\n",
       "    </tr>\n",
       "    <tr>\n",
       "      <th>anthony-davis</th>\n",
       "      <td>53.97</td>\n",
       "      <td>33.935</td>\n",
       "    </tr>\n",
       "    <tr>\n",
       "      <th>...</th>\n",
       "      <td>...</td>\n",
       "      <td>...</td>\n",
       "    </tr>\n",
       "    <tr>\n",
       "      <th>pete-nance</th>\n",
       "      <td>0.00</td>\n",
       "      <td>2.075</td>\n",
       "    </tr>\n",
       "    <tr>\n",
       "      <th>pat-spencer</th>\n",
       "      <td>0.00</td>\n",
       "      <td>1.750</td>\n",
       "    </tr>\n",
       "    <tr>\n",
       "      <th>isaiah-wong</th>\n",
       "      <td>0.00</td>\n",
       "      <td>1.170</td>\n",
       "    </tr>\n",
       "    <tr>\n",
       "      <th>onuralp-bitim</th>\n",
       "      <td>0.00</td>\n",
       "      <td>2.865</td>\n",
       "    </tr>\n",
       "    <tr>\n",
       "      <th>malcolm-cazalon</th>\n",
       "      <td>0.00</td>\n",
       "      <td>2.580</td>\n",
       "    </tr>\n",
       "  </tbody>\n",
       "</table>\n",
       "<p>491 rows × 2 columns</p>\n",
       "</div>"
      ],
      "text/plain": [
       "                            FP     MIN\n",
       "url_suffix                            \n",
       "luka-doncic              63.55  37.348\n",
       "nikola-jokic             62.68  35.159\n",
       "shai-gilgeous-alexander  55.34  34.840\n",
       "domantas-sabonis         54.98  37.220\n",
       "anthony-davis            53.97  33.935\n",
       "...                        ...     ...\n",
       "pete-nance                0.00   2.075\n",
       "pat-spencer               0.00   1.750\n",
       "isaiah-wong               0.00   1.170\n",
       "onuralp-bitim             0.00   2.865\n",
       "malcolm-cazalon           0.00   2.580\n",
       "\n",
       "[491 rows x 2 columns]"
      ]
     },
     "execution_count": 25,
     "metadata": {},
     "output_type": "execute_result"
    }
   ],
   "source": [
    "logs['past'].groupby('url_suffix').head(10).groupby('url_suffix').agg({'FP': 'mean', 'MIN': 'mean'}).sort_values('FP', ascending=False)"
   ]
  },
  {
   "cell_type": "code",
   "execution_count": 16,
   "id": "d0debad9-00f7-4c1c-b15d-1aa5bd2fcc3b",
   "metadata": {
    "tags": []
   },
   "outputs": [
    {
     "data": {
      "text/plain": [
       "Index(['Date', 'OPP', 'MIN', 'PTS', 'FGM-A', '3PM-A', 'FTM-A', 'REB', 'AST',\n",
       "       'STL', 'BLK', 'TOV', 'PF', 'Salary', 'FP', 'Value', 'url_suffix'],\n",
       "      dtype='object')"
      ]
     },
     "execution_count": 16,
     "metadata": {},
     "output_type": "execute_result"
    }
   ],
   "source": [
    "logs['past'].columns"
   ]
  },
  {
   "cell_type": "code",
   "execution_count": null,
   "id": "892b5dfa-a196-43dd-ab30-7ef2cb7d009f",
   "metadata": {},
   "outputs": [],
   "source": []
  }
 ],
 "metadata": {
  "kernelspec": {
   "display_name": "Python 3 (ipykernel)",
   "language": "python",
   "name": "python3"
  },
  "language_info": {
   "codemirror_mode": {
    "name": "ipython",
    "version": 3
   },
   "file_extension": ".py",
   "mimetype": "text/x-python",
   "name": "python",
   "nbconvert_exporter": "python",
   "pygments_lexer": "ipython3",
   "version": "3.11.4"
  }
 },
 "nbformat": 4,
 "nbformat_minor": 5
}
