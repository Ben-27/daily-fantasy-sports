{
 "cells": [
  {
   "cell_type": "code",
   "execution_count": 1,
   "id": "0bdbc908-d38c-46f5-bb57-9b610b053772",
   "metadata": {},
   "outputs": [],
   "source": [
    "import pandas as pd"
   ]
  },
  {
   "cell_type": "code",
   "execution_count": 2,
   "id": "d8c934e2-1938-4610-8331-28a2c59ba49d",
   "metadata": {},
   "outputs": [],
   "source": [
    "si = pd.read_excel('../Sports Illustrated.xlsx', sheet_name='Week 18')"
   ]
  },
  {
   "cell_type": "code",
   "execution_count": 3,
   "id": "b822d577-ffa2-4c85-9e6d-0f0576c79356",
   "metadata": {},
   "outputs": [],
   "source": [
    "dat = []\n",
    "\n",
    "for sheet in ['qb', 'rb', 'wr', 'te', 'dst']:\n",
    "    temp = pd.read_excel('Lib/Historical Stats/NFL/FantasyPros NFL Historical.xlsx', sheet_name=sheet)\n",
    "    dat.append(temp['Player'])"
   ]
  },
  {
   "cell_type": "code",
   "execution_count": 4,
   "id": "a14b7f3e-662d-4c56-80e5-24d6306e41d9",
   "metadata": {},
   "outputs": [],
   "source": [
    "names = pd.concat(dat).unique()"
   ]
  },
  {
   "cell_type": "code",
   "execution_count": 5,
   "id": "4e555983-a855-43c9-9cdb-be38783a007e",
   "metadata": {},
   "outputs": [],
   "source": [
    "temp = pd.Series(names)\n",
    "\n",
    "for p in si['Name']:\n",
    "    if ~temp.str.contains(p).any():\n",
    "        print(p)"
   ]
  },
  {
   "cell_type": "code",
   "execution_count": null,
   "id": "869fa133-cc11-4792-ae7c-7018fcb45857",
   "metadata": {},
   "outputs": [],
   "source": []
  }
 ],
 "metadata": {
  "kernelspec": {
   "display_name": "Python 3 (ipykernel)",
   "language": "python",
   "name": "python3"
  },
  "language_info": {
   "codemirror_mode": {
    "name": "ipython",
    "version": 3
   },
   "file_extension": ".py",
   "mimetype": "text/x-python",
   "name": "python",
   "nbconvert_exporter": "python",
   "pygments_lexer": "ipython3",
   "version": "3.8.15"
  }
 },
 "nbformat": 4,
 "nbformat_minor": 5
}
