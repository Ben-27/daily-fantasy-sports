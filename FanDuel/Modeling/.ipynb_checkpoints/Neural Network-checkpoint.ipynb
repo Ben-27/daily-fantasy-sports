{
 "cells": [
  {
   "cell_type": "code",
   "execution_count": 1,
   "id": "493efbf3-44de-41b7-90cf-92b1a7dd8634",
   "metadata": {},
   "outputs": [],
   "source": [
    "from NN import NN\n",
    "\n",
    "import pandas as pd\n",
    "import numpy as np\n",
    "import matplotlib.pyplot as plt\n",
    "\n",
    "from sklearn.preprocessing import StandardScaler\n",
    "from sklearn.model_selection import train_test_split\n",
    "from sklearn.metrics import mean_absolute_error, mean_squared_error, r2_score\n",
    "\n",
    "import torch\n",
    "import torch.nn as nn\n",
    "from torch.utils.data import TensorDataset, DataLoader"
   ]
  },
  {
   "cell_type": "code",
   "execution_count": 2,
   "id": "bf41fee0-569b-4336-a9a6-6a805c43f296",
   "metadata": {},
   "outputs": [],
   "source": [
    "RANDOM_STATE = 343"
   ]
  },
  {
   "cell_type": "markdown",
   "id": "d4fc1403-d07f-485d-8737-7117555b17a1",
   "metadata": {},
   "source": [
    "## Data Preparation"
   ]
  },
  {
   "cell_type": "code",
   "execution_count": 4,
   "id": "c60e2d05-a120-4eca-aca7-1a3e5c892b14",
   "metadata": {},
   "outputs": [
    {
     "name": "stdout",
     "output_type": "stream",
     "text": [
      "Training set: (14064, 42)\n",
      " Development set: (1758, 42)\n",
      " Testing set: (1759, 42)\n"
     ]
    },
    {
     "name": "stderr",
     "output_type": "stream",
     "text": [
      "C:\\ProgramData\\anaconda3\\Lib\\site-packages\\numpy\\core\\fromnumeric.py:59: FutureWarning: 'DataFrame.swapaxes' is deprecated and will be removed in a future version. Please use 'DataFrame.transpose' instead.\n",
      "  return bound(*args, **kwds)\n"
     ]
    }
   ],
   "source": [
    "dat = pd.read_csv('features_lookback_10.csv')\n",
    "\n",
    "# feature names\n",
    "dat.drop(columns=['url_suffix', 'Date'], inplace=True)\n",
    "\n",
    "# shuffle and split into three sets\n",
    "train, dev, test = np.split(\n",
    "    dat.sample(frac=1, random_state=RANDOM_STATE),\n",
    "    [int(.8*len(dat)), int(.9*len(dat))]\n",
    ")\n",
    "print(f'Training set: {train.shape}\\n', f'Development set: {dev.shape}\\n', f'Testing set: {test.shape}')\n",
    "\n",
    "X_train, X_dev, X_test = train.iloc[:, 1:], dev.iloc[:, 1:], test.iloc[:, 1:]\n",
    "y_train, y_dev, y_test = train.iloc[:, 0].to_numpy(), dev.iloc[:, 0].to_numpy(), test.iloc[:, 0].to_numpy()\n",
    "\n",
    "# center and scale features\n",
    "x_scaler = StandardScaler()\n",
    "x_scaler.fit(X_train)\n",
    "X_train_scaled, X_dev_scaled, X_test_scaled = x_scaler.transform(X_train), x_scaler.transform(X_dev), x_scaler.transform(X_test)\n",
    "\n",
    "# center and scale targets\n",
    "y_scaler = StandardScaler()\n",
    "y_scaler.fit(y_train.reshape(-1,1))\n",
    "y_train_scaled, y_dev_scaled, y_test_scaled = y_scaler.transform(y_train.reshape(-1,1)), y_scaler.transform(y_dev.reshape(-1,1)), y_scaler.transform(y_test.reshape(-1,1))"
   ]
  },
  {
   "cell_type": "markdown",
   "id": "992580e7-c3ee-4617-bcf4-36f98d052919",
   "metadata": {},
   "source": [
    "## Neural Network"
   ]
  },
  {
   "cell_type": "code",
   "execution_count": 5,
   "id": "20d083e6-52b2-4022-a8ce-9d3a9619cbf7",
   "metadata": {},
   "outputs": [],
   "source": [
    "dataset = TensorDataset(\n",
    "    torch.tensor(X_train_scaled).float(), \n",
    "    torch.tensor(y_train_scaled.reshape(-1,1)).float()\n",
    ")\n",
    "dataloader = DataLoader(dataset, batch_size=64, shuffle=True)"
   ]
  },
  {
   "cell_type": "code",
   "execution_count": 6,
   "id": "ceb64857-7048-4bcd-bf4d-75df3e5b60af",
   "metadata": {},
   "outputs": [],
   "source": [
    "dev_dataset = TensorDataset(\n",
    "    torch.tensor(X_dev_scaled).float(),\n",
    "    torch.tensor(y_dev_scaled.reshape(-1,1)).float()\n",
    ")"
   ]
  },
  {
   "cell_type": "markdown",
   "id": "c3b32b0c-9f0e-47bc-b675-2abc71f0e4a4",
   "metadata": {},
   "source": [
    "#### Sigmoid"
   ]
  },
  {
   "cell_type": "code",
   "execution_count": 7,
   "id": "bbf7e535-6969-47dd-a502-695e5df1dcc0",
   "metadata": {},
   "outputs": [
    {
     "name": "stdout",
     "output_type": "stream",
     "text": [
      "Total parameters: 5161\n",
      "\n",
      "Sequential(\n",
      "  (0): Linear(in_features=41, out_features=120, bias=True)\n",
      "  (1): Sigmoid()\n",
      "  (2): Linear(in_features=120, out_features=1, bias=True)\n",
      "  (3): Dropout(p=0.5, inplace=False)\n",
      ")\n"
     ]
    }
   ],
   "source": [
    "m_sig = NN(nn.Sequential(\n",
    "    nn.Linear(dataset[0][0].shape[0], 120),\n",
    "    nn.Sigmoid(),\n",
    "    nn.Linear(120, 1),\n",
    "    nn.Dropout(.5)\n",
    "))\n",
    "\n",
    "print(f'Total parameters: {m_sig.get_param_count()}\\n')\n",
    "\n",
    "print(m_sig.model)"
   ]
  },
  {
   "cell_type": "code",
   "execution_count": 8,
   "id": "c175dce6-756f-4298-8562-eebc10ad73fd",
   "metadata": {},
   "outputs": [
    {
     "data": {
      "image/png": "[encoded data removed]",
      "text/plain": [
       "<Figure size 640x480 with 1 Axes>"
      ]
     },
     "metadata": {},
     "output_type": "display_data"
    },
    {
     "name": "stdout",
     "output_type": "stream",
     "text": [
      "Mean Absolute Error: 9.774045169448236\n",
      "Mean Squared Error: 148.27818283217235\n",
      "R-squared: 0.3645720417987549\n"
     ]
    },
    {
     "data": {
      "text/plain": [
       "(9.774045169448236, 148.27818283217235, 0.3645720417987549)"
      ]
     },
     "execution_count": 8,
     "metadata": {},
     "output_type": "execute_result"
    }
   ],
   "source": [
    "m_sig.training_loop(dataloader, devset=dev_dataset, num_epochs=50)\n",
    "\n",
    "m_sig.plot_losses(x_start=0, ylim=10)\n",
    "\n",
    "m_sig.calculate_metrics(dev_dataset, y_scaler)"
   ]
  },
  {
   "cell_type": "markdown",
   "id": "bd582261-24fd-417f-9399-ae7cf6e21070",
   "metadata": {},
   "source": [
    "#### Deep Sigmoid"
   ]
  },
  {
   "cell_type": "code",
   "execution_count": 9,
   "id": "d9b6de42-e7fb-409d-8bfd-ae55380fb271",
   "metadata": {},
   "outputs": [
    {
     "name": "stdout",
     "output_type": "stream",
     "text": [
      "Total parameters: 2783\n",
      "\n",
      "Sequential(\n",
      "  (0): Linear(in_features=41, out_features=41, bias=True)\n",
      "  (1): Sigmoid()\n",
      "  (2): Linear(in_features=41, out_features=20, bias=True)\n",
      "  (3): Sigmoid()\n",
      "  (4): Linear(in_features=20, out_features=10, bias=True)\n",
      "  (5): Sigmoid()\n",
      "  (6): Linear(in_features=10, out_features=1, bias=True)\n",
      "  (7): Dropout(p=0.5, inplace=False)\n",
      ")\n"
     ]
    }
   ],
   "source": [
    "m_deep = NN(nn.Sequential(\n",
    "    nn.Linear(dataset[0][0].shape[0], 41),\n",
    "    nn.Sigmoid(),\n",
    "    nn.Linear(41, 20),\n",
    "    nn.Sigmoid(),\n",
    "    nn.Linear(20,10),\n",
    "    nn.Sigmoid(),\n",
    "    nn.Linear(10,1),\n",
    "    nn.Dropout(.5)\n",
    "))\n",
    "\n",
    "print(f'Total parameters: {m_deep.get_param_count()}\\n')\n",
    "\n",
    "print(m_deep.model)"
   ]
  },
  {
   "cell_type": "code",
   "execution_count": 10,
   "id": "174c1237-90c4-4eb1-a3e2-8a941eaa2ac1",
   "metadata": {},
   "outputs": [
    {
     "data": {
      "image/png": "[encoded data removed]",
      "text/plain": [
       "<Figure size 640x480 with 1 Axes>"
      ]
     },
     "metadata": {},
     "output_type": "display_data"
    },
    {
     "name": "stdout",
     "output_type": "stream",
     "text": [
      "Mean Absolute Error: 9.348784450502906\n",
      "Mean Squared Error: 136.97142070716103\n",
      "R-squared: 0.4130257835005601\n"
     ]
    },
    {
     "data": {
      "text/plain": [
       "(9.348784450502906, 136.97142070716103, 0.4130257835005601)"
      ]
     },
     "execution_count": 10,
     "metadata": {},
     "output_type": "execute_result"
    }
   ],
   "source": [
    "m_deep.training_loop(dataloader, devset=dev_dataset, num_epochs=50)\n",
    "\n",
    "m_deep.plot_losses(x_start=0, ylim=10)\n",
    "\n",
    "m_deep.calculate_metrics(dev_dataset, y_scaler)"
   ]
  },
  {
   "cell_type": "markdown",
   "id": "aeac14c6-7bf7-4221-a210-dfbce9af6787",
   "metadata": {},
   "source": [
    "### Evaluate Models"
   ]
  },
  {
   "cell_type": "code",
   "execution_count": 11,
   "id": "61f40184-3db3-4e17-bccb-ac5c4381478b",
   "metadata": {},
   "outputs": [],
   "source": [
    "test_dataset = TensorDataset(\n",
    "    torch.tensor(X_test_scaled).float(),\n",
    "    torch.tensor(y_test_scaled.reshape(-1,1)).float()\n",
    ")"
   ]
  },
  {
   "cell_type": "code",
   "execution_count": 12,
   "id": "12c9c2fa-ae3d-4f2b-9f73-c7d562f1d0e8",
   "metadata": {},
   "outputs": [
    {
     "name": "stdout",
     "output_type": "stream",
     "text": [
      "Mean Absolute Error: 9.775038250167151\n",
      "Mean Squared Error: 149.38364991599136\n",
      "R-squared: 0.36795658470433334\n"
     ]
    },
    {
     "data": {
      "text/plain": [
       "(9.775038250167151, 149.38364991599136, 0.36795658470433334)"
      ]
     },
     "execution_count": 12,
     "metadata": {},
     "output_type": "execute_result"
    }
   ],
   "source": [
    "m_sig.calculate_metrics(test_dataset, y_scaler)"
   ]
  },
  {
   "cell_type": "code",
   "execution_count": 13,
   "id": "34aa769f-f473-40ac-8e32-c8f471c7510d",
   "metadata": {},
   "outputs": [
    {
     "name": "stdout",
     "output_type": "stream",
     "text": [
      "Mean Absolute Error: 9.424888772366169\n",
      "Mean Squared Error: 138.59214964024514\n",
      "R-squared: 0.4136155085174984\n"
     ]
    },
    {
     "data": {
      "text/plain": [
       "(9.424888772366169, 138.59214964024514, 0.4136155085174984)"
      ]
     },
     "execution_count": 13,
     "metadata": {},
     "output_type": "execute_result"
    }
   ],
   "source": [
    "m_deep.calculate_metrics(test_dataset, y_scaler)"
   ]
  },
  {
   "cell_type": "code",
   "execution_count": null,
   "id": "1d090e17-ed6c-4fcd-a45e-1de9c7417600",
   "metadata": {},
   "outputs": [],
   "source": []
  }
 ],
 "metadata": {
  "kernelspec": {
   "display_name": "Python 3 (ipykernel)",
   "language": "python",
   "name": "python3"
  },
  "language_info": {
   "codemirror_mode": {
    "name": "ipython",
    "version": 3
   },
   "file_extension": ".py",
   "mimetype": "text/x-python",
   "name": "python",
   "nbconvert_exporter": "python",
   "pygments_lexer": "ipython3",
   "version": "3.11.4"
  }
 },
 "nbformat": 4,
 "nbformat_minor": 5
}
