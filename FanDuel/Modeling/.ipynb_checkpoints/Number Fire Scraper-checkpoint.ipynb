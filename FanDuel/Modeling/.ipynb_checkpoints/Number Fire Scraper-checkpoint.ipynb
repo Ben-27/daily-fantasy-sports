{
 "cells": [
  {
   "cell_type": "code",
   "execution_count": 2,
   "id": "3c49e900-ce22-49cd-8b27-33d732a721d8",
   "metadata": {
    "tags": []
   },
   "outputs": [],
   "source": [
    "import pandas as pd\n",
    "\n",
    "from nf_scraper import *\n",
    "%load_ext autoreload\n",
    "%autoreload 2"
   ]
  },
  {
   "cell_type": "code",
   "execution_count": 2,
   "id": "cd22ca86-f9d4-4503-a192-861527f72f44",
   "metadata": {
    "tags": []
   },
   "outputs": [
    {
     "name": "stdout",
     "output_type": "stream",
     "text": [
      "CPU times: total: 438 ms\n",
      "Wall time: 880 ms\n"
     ]
    },
    {
     "data": {
      "text/html": [
       "<div>\n",
       "<style scoped>\n",
       "    .dataframe tbody tr th:only-of-type {\n",
       "        vertical-align: middle;\n",
       "    }\n",
       "\n",
       "    .dataframe tbody tr th {\n",
       "        vertical-align: top;\n",
       "    }\n",
       "\n",
       "    .dataframe thead th {\n",
       "        text-align: right;\n",
       "    }\n",
       "</style>\n",
       "<table border=\"1\" class=\"dataframe\">\n",
       "  <thead>\n",
       "    <tr style=\"text-align: right;\">\n",
       "      <th></th>\n",
       "      <th>first</th>\n",
       "      <th>last</th>\n",
       "      <th>position</th>\n",
       "      <th>team</th>\n",
       "      <th>url_suffix</th>\n",
       "    </tr>\n",
       "  </thead>\n",
       "  <tbody>\n",
       "    <tr>\n",
       "      <th>0</th>\n",
       "      <td>A.J.</td>\n",
       "      <td>Green</td>\n",
       "      <td>SG</td>\n",
       "      <td>MIL</td>\n",
       "      <td>a-j-green</td>\n",
       "    </tr>\n",
       "    <tr>\n",
       "      <th>1</th>\n",
       "      <td>A.J.</td>\n",
       "      <td>Lawson</td>\n",
       "      <td>SG</td>\n",
       "      <td>DAL</td>\n",
       "      <td>a-j-lawson</td>\n",
       "    </tr>\n",
       "    <tr>\n",
       "      <th>2</th>\n",
       "      <td>Aaron</td>\n",
       "      <td>Gordon</td>\n",
       "      <td>F</td>\n",
       "      <td>DEN</td>\n",
       "      <td>aaron-gordon</td>\n",
       "    </tr>\n",
       "    <tr>\n",
       "      <th>3</th>\n",
       "      <td>Aaron</td>\n",
       "      <td>Holiday</td>\n",
       "      <td>PG</td>\n",
       "      <td>HOU</td>\n",
       "      <td>aaron-holiday</td>\n",
       "    </tr>\n",
       "    <tr>\n",
       "      <th>4</th>\n",
       "      <td>Aaron</td>\n",
       "      <td>Nesmith</td>\n",
       "      <td>SF</td>\n",
       "      <td>IND</td>\n",
       "      <td>aaron-nesmith</td>\n",
       "    </tr>\n",
       "    <tr>\n",
       "      <th>...</th>\n",
       "      <td>...</td>\n",
       "      <td>...</td>\n",
       "      <td>...</td>\n",
       "      <td>...</td>\n",
       "      <td>...</td>\n",
       "    </tr>\n",
       "    <tr>\n",
       "      <th>488</th>\n",
       "      <td>Xavier</td>\n",
       "      <td>Tillman</td>\n",
       "      <td>C</td>\n",
       "      <td>BOS</td>\n",
       "      <td>xavier-tillman</td>\n",
       "    </tr>\n",
       "    <tr>\n",
       "      <th>489</th>\n",
       "      <td>Zach</td>\n",
       "      <td>Collins</td>\n",
       "      <td>C</td>\n",
       "      <td>SA</td>\n",
       "      <td>zach-collins</td>\n",
       "    </tr>\n",
       "    <tr>\n",
       "      <th>490</th>\n",
       "      <td>Zavier</td>\n",
       "      <td>Simpson</td>\n",
       "      <td>G</td>\n",
       "      <td>MEM</td>\n",
       "      <td>zavier-simpson</td>\n",
       "    </tr>\n",
       "    <tr>\n",
       "      <th>491</th>\n",
       "      <td>Zeke</td>\n",
       "      <td>Nnaji</td>\n",
       "      <td>PF</td>\n",
       "      <td>DEN</td>\n",
       "      <td>zeke-nnaji</td>\n",
       "    </tr>\n",
       "    <tr>\n",
       "      <th>492</th>\n",
       "      <td>Zion</td>\n",
       "      <td>Williamson</td>\n",
       "      <td>SF</td>\n",
       "      <td>NO</td>\n",
       "      <td>zion-williamson</td>\n",
       "    </tr>\n",
       "  </tbody>\n",
       "</table>\n",
       "<p>493 rows × 5 columns</p>\n",
       "</div>"
      ],
      "text/plain": [
       "      first        last position team       url_suffix\n",
       "0      A.J.       Green       SG  MIL        a-j-green\n",
       "1      A.J.      Lawson       SG  DAL       a-j-lawson\n",
       "2     Aaron      Gordon        F  DEN     aaron-gordon\n",
       "3     Aaron     Holiday       PG  HOU    aaron-holiday\n",
       "4     Aaron     Nesmith       SF  IND    aaron-nesmith\n",
       "..      ...         ...      ...  ...              ...\n",
       "488  Xavier     Tillman        C  BOS   xavier-tillman\n",
       "489    Zach     Collins        C   SA     zach-collins\n",
       "490  Zavier     Simpson        G  MEM   zavier-simpson\n",
       "491    Zeke       Nnaji       PF  DEN       zeke-nnaji\n",
       "492    Zion  Williamson       SF   NO  zion-williamson\n",
       "\n",
       "[493 rows x 5 columns]"
      ]
     },
     "execution_count": 2,
     "metadata": {},
     "output_type": "execute_result"
    }
   ],
   "source": [
    "%time plys = download_nf_players()\n",
    "plys"
   ]
  },
  {
   "cell_type": "code",
   "execution_count": null,
   "id": "0502efe4-89e6-4dd1-8166-508da3ed0130",
   "metadata": {
    "tags": []
   },
   "outputs": [
    {
     "name": "stdout",
     "output_type": "stream",
     "text": [
      "Error with 140, duncan-robinson\n",
      " 28.6% completed\r"
     ]
    }
   ],
   "source": [
    "%time logs = concatenate_logs(plys.loc[:, 'url_suffix'])"
   ]
  },
  {
   "cell_type": "code",
   "execution_count": 11,
   "id": "6eb6f944-e4d6-4f70-b86b-3ce98ff8358f",
   "metadata": {
    "tags": []
   },
   "outputs": [],
   "source": [
    "# with pd.ExcelWriter('20240316 NumberFire.xlsx') as writer:\n",
    "#     plys.to_excel(writer, sheet_name='players', index=False)\n",
    "#     logs['past'].to_excel(writer, sheet_name='past', index=False)\n",
    "#     logs['upcoming'].to_excel(writer, sheet_name='upcoming', index=False)"
   ]
  },
  {
   "cell_type": "code",
   "execution_count": 4,
   "id": "892b5dfa-a196-43dd-ab30-7ef2cb7d009f",
   "metadata": {},
   "outputs": [
    {
     "name": "stdout",
     "output_type": "stream",
     "text": [
      "Downloaded 493 players.\n",
      "100.0% completed\r"
     ]
    }
   ],
   "source": [
    "scrape_all('20240418 NumberFire.xlsx')"
   ]
  },
  {
   "cell_type": "code",
   "execution_count": null,
   "id": "159468c4-8ead-4cf9-9212-28497e331b85",
   "metadata": {},
   "outputs": [],
   "source": []
  }
 ],
 "metadata": {
  "kernelspec": {
   "display_name": "Python 3 (ipykernel)",
   "language": "python",
   "name": "python3"
  },
  "language_info": {
   "codemirror_mode": {
    "name": "ipython",
    "version": 3
   },
   "file_extension": ".py",
   "mimetype": "text/x-python",
   "name": "python",
   "nbconvert_exporter": "python",
   "pygments_lexer": "ipython3",
   "version": "3.11.4"
  }
 },
 "nbformat": 4,
 "nbformat_minor": 5
}
