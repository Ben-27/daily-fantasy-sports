{
 "cells": [
  {
   "cell_type": "code",
   "execution_count": 1,
   "id": "f2b8b2cf-4528-4a0b-8a02-cf10443bc5d4",
   "metadata": {},
   "outputs": [],
   "source": [
    "import pandas as pd\n",
    "import numpy as np\n",
    "\n",
    "from sklearn.preprocessing import StandardScaler\n",
    "from sklearn.model_selection import cross_val_score, KFold"
   ]
  },
  {
   "cell_type": "markdown",
   "id": "f6e1fa1f-1b08-4721-ad51-b7b5b92defef",
   "metadata": {},
   "source": [
    "## Data Processing"
   ]
  },
  {
   "cell_type": "code",
   "execution_count": 2,
   "id": "de047c55-62e5-482b-b857-aa9687bd91ce",
   "metadata": {},
   "outputs": [],
   "source": [
    "dat = pd.read_csv('features_lookback_10.csv')\n",
    "\n",
    "# standardize columns\n",
    "dat_std = dat[dat.loc[:, 'FP_1':'FP_10'].mean(axis='columns')>10].drop(columns=['url_suffix', 'Date']).values\n",
    "scaler = StandardScaler().fit(dat_std)\n",
    "dat_std = scaler.transform(dat_std, copy=True)\n",
    "\n",
    "X = dat_std[:, 1:]\n",
    "y = dat_std[:, 0]\n",
    "names = dat.drop(columns=['url_suffix', 'Date', 'FP']).columns"
   ]
  },
  {
   "cell_type": "markdown",
   "id": "6b2c9b7e-a701-4380-b23d-5323523d146c",
   "metadata": {},
   "source": [
    "## Linear Regression"
   ]
  },
  {
   "cell_type": "code",
   "execution_count": 3,
   "id": "61a0ca2a-1d33-4236-8510-742f47b73a1a",
   "metadata": {},
   "outputs": [
    {
     "data": {
      "text/plain": [
       "array([0.50037858, 0.54415229])"
      ]
     },
     "execution_count": 3,
     "metadata": {},
     "output_type": "execute_result"
    }
   ],
   "source": [
    "from sklearn.linear_model import LinearRegression\n",
    "\n",
    "kf = KFold(n_splits=10, shuffle=True, random_state=434)\n",
    "reg = LinearRegression()\n",
    "\n",
    "cv_scores = cross_val_score(reg, X, y, cv=kf)\n",
    "\n",
    "np.quantile(cv_scores, [.05, .95])"
   ]
  },
  {
   "cell_type": "markdown",
   "id": "89b15a1f-e8b8-46c6-914e-0ff60d653448",
   "metadata": {},
   "source": [
    "## Ridge Regression"
   ]
  },
  {
   "cell_type": "code",
   "execution_count": 4,
   "id": "a52ea83a-a53d-4160-9873-1b16dd7a311f",
   "metadata": {},
   "outputs": [
    {
     "name": "stdout",
     "output_type": "stream",
     "text": [
      "alpha = 0.1 \tmean = 0.519 \tquantile = [0.51351022 0.54415139]\n",
      "alpha = 1 \tmean = 0.519 \tquantile = [0.51352882 0.54414323]\n",
      "alpha = 10 \tmean = 0.519 \tquantile = [0.51369462 0.54409792]\n",
      "alpha = 100 \tmean = 0.519 \tquantile = [0.51444996 0.54450372]\n",
      "alpha = 1000 \tmean = 0.518 \tquantile = [0.5144447  0.54364007]\n"
     ]
    }
   ],
   "source": [
    "from sklearn.linear_model import Ridge\n",
    "\n",
    "alphas = [.1, 1, 10, 100, 1000]\n",
    "ridge_scores = []\n",
    "\n",
    "for alpha in alphas:\n",
    "    ridge = Ridge(alpha=alpha)\n",
    "\n",
    "    cv_scores = cross_val_score(ridge, X, y, cv=kf)\n",
    "    print(f'alpha = {alpha} \\tmean = {round(np.mean(cv_scores),3)} \\tquantile = {np.quantile(cv_scores, [.5, .95])}')\n",
    "\n",
    "    ridge_scores.append(cv_scores)    "
   ]
  },
  {
   "cell_type": "markdown",
   "id": "e5f74132-e312-4814-afa1-b2f1937c5273",
   "metadata": {},
   "source": [
    "## Lasso Regression"
   ]
  },
  {
   "cell_type": "code",
   "execution_count": 5,
   "id": "96d09c2e-8b17-46e5-9898-a5f3d70256f5",
   "metadata": {},
   "outputs": [
    {
     "name": "stdout",
     "output_type": "stream",
     "text": [
      "alpha = 0.1 \tmean = 0.505 \tquantile = [0.49973596 0.52657662]\n",
      "alpha = 0.01 \tmean = 0.519 \tquantile = [0.51371688 0.54250593]\n",
      "alpha = 0.001 \tmean = 0.52 \tquantile = [0.5151052  0.54469004]\n"
     ]
    }
   ],
   "source": [
    "from sklearn.linear_model import Lasso\n",
    "\n",
    "alphas = [.1, .01, .001]\n",
    "lasso_scores = []\n",
    "\n",
    "for alpha in alphas:\n",
    "    lasso = Lasso(alpha=alpha)\n",
    "\n",
    "    cv_scores = cross_val_score(lasso, X, y, cv=kf)\n",
    "    print(f'alpha = {alpha} \\tmean = {round(np.mean(cv_scores),3)} \\tquantile = {np.quantile(cv_scores, [.5, .95])}')\n",
    "\n",
    "    lasso_scores.append(cv_scores)    "
   ]
  },
  {
   "cell_type": "markdown",
   "id": "8d02fa42-67df-47d2-b664-f0750df77bba",
   "metadata": {},
   "source": [
    "## XGBoost"
   ]
  },
  {
   "cell_type": "code",
   "execution_count": 6,
   "id": "b526ca19-4f6b-40ab-81b4-6f8061dcad5a",
   "metadata": {},
   "outputs": [
    {
     "name": "stdout",
     "output_type": "stream",
     "text": [
      "n_estimators = 4 \tmean = 0.48 \tquantile = [0.46617839 0.50352803]\n",
      "n_estimators = 7 \tmean = 0.504 \tquantile = [0.48503241 0.52823661]\n",
      "n_estimators = 10 \tmean = 0.504 \tquantile = [0.48319867 0.52778644]\n",
      "n_estimators = 13 \tmean = 0.502 \tquantile = [0.47956526 0.52602138]\n",
      "n_estimators = 16 \tmean = 0.5 \tquantile = [0.47662013 0.52471887]\n",
      "n_estimators = 19 \tmean = 0.499 \tquantile = [0.47730978 0.52405774]\n"
     ]
    }
   ],
   "source": [
    "from xgboost import XGBRegressor\n",
    "\n",
    "xgb_scores = []\n",
    "n_param = [4, 7, 10, 13, 16, 19]\n",
    "\n",
    "for n in n_param:\n",
    "    xgb = XGBRegressor(n_estimators=n)\n",
    "    \n",
    "    cv_scores = cross_val_score(xgb, X, y, cv=kf)\n",
    "    print(f'n_estimators = {n} \\tmean = {round(np.mean(cv_scores), 3)} \\tquantile = {np.quantile(cv_scores, [.05, .95])}')\n",
    "\n",
    "    xgb_scores.append(cv_scores)"
   ]
  }
 ],
 "metadata": {
  "kernelspec": {
   "display_name": "Python 3 (ipykernel)",
   "language": "python",
   "name": "python3"
  },
  "language_info": {
   "codemirror_mode": {
    "name": "ipython",
    "version": 3
   },
   "file_extension": ".py",
   "mimetype": "text/x-python",
   "name": "python",
   "nbconvert_exporter": "python",
   "pygments_lexer": "ipython3",
   "version": "3.11.4"
  }
 },
 "nbformat": 4,
 "nbformat_minor": 5
}
