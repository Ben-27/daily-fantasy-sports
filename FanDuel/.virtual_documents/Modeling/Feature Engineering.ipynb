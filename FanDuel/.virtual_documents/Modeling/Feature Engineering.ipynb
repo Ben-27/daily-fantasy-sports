import pandas as pd
import numpy as np


raw = pd.read_excel(
    '20240418 NumberFire.xlsx', sheet_name='past',
    converters={'Salary': lambda x: float(x.replace('$','').replace(',',''))}
)


raw.shape


# ranked = raw.copy()
ranked = raw[~raw['Salary'].isna()].copy()
ranked['dummy'] = 1
ranked['rank'] = ranked.groupby('url_suffix')['dummy'].cumsum() - 1

ranked


def build_features(df, N_lookback=10):
    data = []
    players = df['url_suffix'].unique()

    for j, player in enumerate(players):
        # set player-level data
        ply_df = df[df['url_suffix']==player]
        ply_dat = []
        m = ply_df.shape[0]

        # not enough games played, continue to next player
        if m < N_lookback+1:
            continue
        
        # i indexes games to predict
        # i+1 - i+N are games used for features
        for i in range(0, m-N_lookback):
            # FP is value to predict, Date and Salary are known before contest
            sections = [ply_df.loc[ply_df['rank']==i, ['url_suffix', 'Date', 'FP', 'Salary']]]

            # filter to last N_lookback games to create features
            mask = (ply_df['rank']>i) & (ply_df['rank']<=i+N_lookback)
            temp = ply_df[mask]

            # col lists features to be calculate
            # create pivot table of last N_lookback values
            for col in ['FP', 'MIN', 'Value', 'Salary']:
                col_section = temp.pivot_table(
                    index='url_suffix',
                    values=col,
                    columns='rank',
                    aggfunc='sum'
                ).astype(float).fillna(0)

                # rename columns and match index
                col_section.columns = [col + '_' + str(i) for i in range(1,N_lookback+1)]
                col_section.index = sections[0].index
                sections.append(col_section)

            # concatenate dataframes to create a record
            ply_dat.append(pd.concat(sections, axis='columns'))
        
        # concatenate records for player
        data.append(pd.concat(ply_dat, axis='rows'))

        # status bar
        print(f"{(j+1)/len(players):6.1%} completed\r", end="")

    # concatenate all records
    return pd.concat(data, axis='rows')


%time all_dat = build_features(ranked)


# all_dat.to_csv('features_lookback_10.csv', index=False)



