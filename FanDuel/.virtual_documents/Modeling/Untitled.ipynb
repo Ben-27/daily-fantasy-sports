import os
import pandas as pd


dat = []
folder = '../Lib/Players Lists/NBA/'

for file in os.listdir(folder):
    dat.append(pd.read_csv(folder + file))

dat.reverse()
df = pd.concat(dat)


player_positions = df[['Id', 'First Name', 'Last Name', 'Nickname', 'Position']]
player_positions.head(3)


def one_hot_positions(df, position_col, inplace=False):
    '''
    Encodes positions into one-hot columns. Mutates df if inplace=True.
    '''
    if not inplace:
        df = df.copy()
    for pos in ['PG', 'SG', 'SF', 'PF', 'C']:
        df[pos] = df[position_col].str.contains(pos).astype(int) 
    return df


player_positions['Id'] = player_positions['Id'].str[7:]
one_hot_positions(player_positions, 'Position', inplace=True)


player_positions.drop_duplicates('Nickname', inplace=True)


player_positions


player_positions.to_csv('player_positions.csv', index=False)



