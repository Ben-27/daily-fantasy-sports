{
 "cells": [
  {
   "cell_type": "markdown",
   "id": "96b2b380-0b68-4bef-bfb7-1f5f03c03026",
   "metadata": {},
   "source": [
    "## Weekly Data Updater"
   ]
  },
  {
   "cell_type": "code",
   "execution_count": 1,
   "id": "828ffc50-1c5a-4d37-94a6-4eee15c62ba9",
   "metadata": {},
   "outputs": [],
   "source": [
    "import pandas as pd"
   ]
  },
  {
   "cell_type": "code",
   "execution_count": 2,
   "id": "76a4237d-e9b7-4438-94eb-c2dcd3c61ff5",
   "metadata": {},
   "outputs": [],
   "source": [
    "WEEK = 11\n",
    "YEAR = 2022\n",
    "\n",
    "positions = ['qb', 'rb', 'wr', 'te', 'dst']"
   ]
  },
  {
   "cell_type": "code",
   "execution_count": 3,
   "id": "069c58c7-8f90-4ac4-bef3-860e4dae66c1",
   "metadata": {},
   "outputs": [],
   "source": [
    "data = {}\n",
    "for pos in positions:\n",
    "    url = f'https://www.fantasypros.com/nfl/stats/{pos}.php?year={YEAR}&scoring=HALF&range=week&week={WEEK}'\n",
    "    data[pos] = pd.read_html(url)[0]"
   ]
  },
  {
   "cell_type": "code",
   "execution_count": 4,
   "id": "8ecd1753-657d-43a2-a86b-1a46118ba59d",
   "metadata": {},
   "outputs": [],
   "source": [
    "col_mapper = {\n",
    "    'qb':['WeekRank', 'Player', 'PassCMP', 'PassATT', 'PassPCT', 'PassYDS', 'PassY/A', 'PassTD', 'PassInt', 'Sacks', \n",
    "           'RushAtt', 'RushYDS', 'RushTD', 'FL', 'G', 'FPTS', 'FPTS/G', 'ROST'],\n",
    "    'rb':['WeekRank', 'Player', 'RushATT', 'RushYDS', 'RushY/A', 'RushLG', 'Rush20+', 'RushTD',\n",
    "           'RecREC', 'RecTGT', 'RecYDS', 'RecY/R', 'RecTD', 'FL', 'G', 'FPTS', 'FPTS/G', 'ROST'],\n",
    "    'wr':['WeekRank', 'Player', 'RecREC', 'RecTGT', 'RecYDS', 'RecY/R', 'RecLG', 'Rec20+', 'RecTD',\n",
    "           'RushATT', 'RushYDS', 'RushTD', 'FL', 'G', 'FPTS', 'FPTS/G', 'ROST'],\n",
    "    'te':['WeekRank', 'Player', 'RecREC', 'RecTGT', 'RecYDS', 'RecY/R', 'RecLG', 'Rec20+', 'RecTD',\n",
    "           'RushATT', 'RushYDS', 'RushTD', 'FL', 'G', 'FPTS', 'FPTS/G', 'ROST'],\n",
    "    'dst':['WeekRank', 'Player', 'SACK', 'INT', 'FR', 'FF', 'DEF TD', \n",
    "            'SFTY', 'SPC TD', 'G', 'FPTS', 'FPTS/G', 'ROST'],\n",
    "    'k':['WeekRank', 'Player', 'FG', 'FGA', 'PCT', 'LG', '1-19', '20-29', '30-39',\n",
    "          '40-49', '50+', 'XPT', 'XPA', 'G', 'FPTS', 'FPTS/G', 'ROST'],\n",
    "    'dl':['WeekRank', 'Player', 'TACKLE', 'ASSIST', 'SACK', 'PD', 'INT', 'FF', 'FR',\n",
    "           'DEF TD', 'G', 'FPTS', 'FPTS/G', 'ROST'],\n",
    "    'db':['WeekRank', 'Player', 'TACKLE', 'ASSIST', 'SACK', 'PD', 'INT', 'FF', 'FR',\n",
    "           'DEF TD', 'G', 'FPTS', 'FPTS/G', 'ROST'],\n",
    "    'lb':['WeekRank', 'Player', 'TACKLE', 'ASSIST', 'SACK', 'PD', 'INT', 'FF', 'FR',\n",
    "           'DEF TD', 'G', 'FPTS', 'FPTS/G', 'ROST']\n",
    "}"
   ]
  },
  {
   "cell_type": "code",
   "execution_count": 5,
   "id": "9d0d7c81-d704-422b-b3e4-802b40185d2a",
   "metadata": {},
   "outputs": [
    {
     "data": {
      "text/plain": [
       "18"
      ]
     },
     "execution_count": 5,
     "metadata": {},
     "output_type": "execute_result"
    }
   ],
   "source": [
    "len(data['qb'].columns)"
   ]
  },
  {
   "cell_type": "code",
   "execution_count": 6,
   "id": "24b8c02e-04d9-44fb-82f3-43e3426d5ae0",
   "metadata": {},
   "outputs": [],
   "source": [
    "sheets = {}\n",
    "for pos in data.keys():\n",
    "    temp = data[pos].copy()\n",
    "    temp.columns = col_mapper[pos]\n",
    "    temp['Season'] = YEAR\n",
    "    temp['WeekNum'] = WEEK\n",
    "    sheets[pos] = temp[temp['G']!=0]"
   ]
  },
  {
   "cell_type": "code",
   "execution_count": 7,
   "id": "c61b2023-d554-47db-912c-364943d895f9",
   "metadata": {},
   "outputs": [],
   "source": [
    "# write one week of actuals\n",
    "with pd.ExcelWriter(f'Weekly Actuals/{YEAR}-{str(WEEK).zfill(2)} FP Actuals.xlsx') as writer:\n",
    "    for i in sheets.keys():\n",
    "        sheets[i].to_excel(writer, sheet_name=i, index=False)"
   ]
  },
  {
   "cell_type": "code",
   "execution_count": 8,
   "id": "9c87e121-0275-404f-b70e-e3acbfe73d44",
   "metadata": {},
   "outputs": [
    {
     "data": {
      "text/plain": [
       "5"
      ]
     },
     "execution_count": 8,
     "metadata": {},
     "output_type": "execute_result"
    }
   ],
   "source": [
    "# load existing data\n",
    "existing = dict((pos, pd.read_excel('FantasyPros NFL Historical.xlsx', sheet_name=pos)) for pos in positions)\n",
    "len(existing.keys())"
   ]
  },
  {
   "cell_type": "code",
   "execution_count": 9,
   "id": "ba0d4ceb-dbca-48b6-86b2-a2b6e1e5739b",
   "metadata": {},
   "outputs": [],
   "source": [
    "# sort existing data\n",
    "for pos in positions[:5]:\n",
    "    existing[pos] = existing[pos].sort_values(['Season', 'WeekNum', 'WeekRank'])"
   ]
  },
  {
   "cell_type": "code",
   "execution_count": 10,
   "id": "d20fa3d1-bd8a-46f3-8301-7af899b0274e",
   "metadata": {},
   "outputs": [],
   "source": [
    "# # update cumulative workbook\n",
    "# cat_sheets = {}\n",
    "# for pos in data.keys():\n",
    "#     cat  = pd.concat([existing[pos], sheets[pos]], axis=0)\n",
    "#     cat_sheets[pos] = cat[cat['G']!=0]\n",
    "    \n",
    "# with pd.ExcelWriter('FantasyPros NFL Historical.xlsx') as writer:\n",
    "#     for i in cat_sheets.keys():\n",
    "#         cat_sheets[i].to_excel(writer, sheet_name=i, index=False)"
   ]
  },
  {
   "cell_type": "code",
   "execution_count": null,
   "id": "2b7d24e8-7154-4b56-949e-b9254ca7cd9e",
   "metadata": {},
   "outputs": [],
   "source": []
  }
 ],
 "metadata": {
  "kernelspec": {
   "display_name": "Python 3 (ipykernel)",
   "language": "python",
   "name": "python3"
  },
  "language_info": {
   "codemirror_mode": {
    "name": "ipython",
    "version": 3
   },
   "file_extension": ".py",
   "mimetype": "text/x-python",
   "name": "python",
   "nbconvert_exporter": "python",
   "pygments_lexer": "ipython3",
   "version": "3.8.15"
  }
 },
 "nbformat": 4,
 "nbformat_minor": 5
}
